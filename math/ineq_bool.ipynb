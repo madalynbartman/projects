{
 "cells": [
  {
   "cell_type": "code",
   "execution_count": 11,
   "id": "9a756cdb-e08c-4905-a0ac-8ff836df1255",
   "metadata": {},
   "outputs": [],
   "source": [
    "# inequalities and the boolean data type\n",
    "# inequalities use these 4 expressions: >, <, >=, <=\n",
    "# Boolean (aka logical)\n",
    "# True can be represented 1\n",
    "# False can be represented as 0"
   ]
  },
  {
   "cell_type": "code",
   "execution_count": 12,
   "id": "abd17a9a-4e02-489e-ade3-97ee39b64a23",
   "metadata": {},
   "outputs": [
    {
     "data": {
      "text/plain": [
       "False"
      ]
     },
     "execution_count": 12,
     "metadata": {},
     "output_type": "execute_result"
    }
   ],
   "source": [
    "4 > 5"
   ]
  },
  {
   "cell_type": "code",
   "execution_count": 13,
   "id": "5e4519a7-838f-4f0f-a646-dfde5e76c996",
   "metadata": {},
   "outputs": [
    {
     "name": "stdout",
     "output_type": "stream",
     "text": [
      "True\n",
      "<class 'bool'>\n"
     ]
    }
   ],
   "source": [
    "b = 10 > 3 * 3\n",
    "print(b)\n",
    "print(type(b))"
   ]
  },
  {
   "cell_type": "code",
   "execution_count": 14,
   "id": "008b37fd-46a6-470d-828d-2971255b70fd",
   "metadata": {},
   "outputs": [
    {
     "data": {
      "text/plain": [
       "False"
      ]
     },
     "execution_count": 14,
     "metadata": {},
     "output_type": "execute_result"
    }
   ],
   "source": [
    "4 >= 2+2+1"
   ]
  },
  {
   "cell_type": "code",
   "execution_count": 16,
   "id": "df253db8-0f63-4552-a45d-6813dcb27852",
   "metadata": {},
   "outputs": [
    {
     "name": "stdout",
     "output_type": "stream",
     "text": [
      "False\n",
      "True\n",
      "False\n",
      "True\n",
      "False\n",
      "True\n"
     ]
    }
   ],
   "source": [
    "# exercise questions\n",
    "x = 2\n",
    "x = 3 \n",
    "x = 4\n",
    "\n",
    "for i in [2, 3, 4]:\n",
    "    print(4*x + 3 < 17 - x**2)\n",
    "    print(8*x - 2 <= -3 * x + 42)"
   ]
  },
  {
   "cell_type": "code",
   "execution_count": null,
   "id": "05a371f8-c865-4300-a5c7-83d633067fb3",
   "metadata": {},
   "outputs": [],
   "source": []
  }
 ],
 "metadata": {
  "kernelspec": {
   "display_name": "Python 3 (ipykernel)",
   "language": "python",
   "name": "python3"
  },
  "language_info": {
   "codemirror_mode": {
    "name": "ipython",
    "version": 3
   },
   "file_extension": ".py",
   "mimetype": "text/x-python",
   "name": "python",
   "nbconvert_exporter": "python",
   "pygments_lexer": "ipython3",
   "version": "3.11.7"
  }
 },
 "nbformat": 4,
 "nbformat_minor": 5
}
