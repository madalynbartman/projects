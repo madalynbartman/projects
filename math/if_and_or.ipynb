{
 "cells": [
  {
   "cell_type": "code",
   "execution_count": 1,
   "id": "82640327-926e-464d-b0ef-b740da4574f5",
   "metadata": {},
   "outputs": [],
   "source": [
    "# if statements and some logical operators"
   ]
  },
  {
   "cell_type": "code",
   "execution_count": 18,
   "id": "b7782c6a-8ddc-45b7-8201-3f895b6cc0f3",
   "metadata": {},
   "outputs": [
    {
     "name": "stdout",
     "output_type": "stream",
     "text": [
      "True\n",
      "6\n"
     ]
    }
   ],
   "source": [
    "if 4 + 2 == 6:\n",
    "    print('True')\n",
    "    print(4 + 2)\n",
    "else:\n",
    "    print(4 + 2)"
   ]
  },
  {
   "cell_type": "code",
   "execution_count": 21,
   "id": "ac5e77b4-a24c-4f3a-a175-d63e727f6704",
   "metadata": {},
   "outputs": [
    {
     "name": "stdout",
     "output_type": "stream",
     "text": [
      "4 is greater than 3\n"
     ]
    }
   ],
   "source": [
    "x1 = 4\n",
    "x2 = 3\n",
    "\n",
    "if x1 > x2:\n",
    "    print('%g is greater than %g' %(x1,x2))\n",
    "elif x1 < x1:\n",
    "    print('%g is greater than %g' %(x2,x1))\n",
    "else:\n",
    "    print('%g is equal to %g' %(x2,x1))"
   ]
  },
  {
   "cell_type": "code",
   "execution_count": 24,
   "id": "1a58a064-8852-4ad7-943c-5a1f99abec54",
   "metadata": {},
   "outputs": [
    {
     "name": "stdout",
     "output_type": "stream",
     "text": [
      "1.0\n",
      "1.0\n",
      "1.0\n",
      "1.0\n",
      "0.5\n",
      "0.25\n",
      "0.125\n",
      "0.0625\n",
      "0.3333333333333333\n",
      "0.1111111111111111\n",
      "0.037037037037037035\n",
      "0.012345679012345678\n"
     ]
    }
   ],
   "source": [
    "# ecercise question\n",
    "for i in range(0,4):\n",
    "    for j in range(0,5):\n",
    "        if i > 0 and j > 0:\n",
    "            print(i** - j )"
   ]
  },
  {
   "cell_type": "code",
   "execution_count": null,
   "id": "6fd28537-77e8-4207-8d47-11c4225e0c91",
   "metadata": {},
   "outputs": [],
   "source": []
  }
 ],
 "metadata": {
  "kernelspec": {
   "display_name": "Python 3 (ipykernel)",
   "language": "python",
   "name": "python3"
  },
  "language_info": {
   "codemirror_mode": {
    "name": "ipython",
    "version": 3
   },
   "file_extension": ".py",
   "mimetype": "text/x-python",
   "name": "python",
   "nbconvert_exporter": "python",
   "pygments_lexer": "ipython3",
   "version": "3.8.10"
  }
 },
 "nbformat": 4,
 "nbformat_minor": 5
}
