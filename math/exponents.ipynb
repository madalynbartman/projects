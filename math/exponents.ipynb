{
 "cells": [
  {
   "cell_type": "code",
   "execution_count": 1,
   "id": "958855bc-9be7-40a0-9f9d-57f338bd18f4",
   "metadata": {},
   "outputs": [],
   "source": [
    "# the law of exponents\n",
    "# 3**2 = 3*3 \n",
    "# 3**4 = 3x3x3x3\n",
    "\n",
    "# not possible to simplify exponents when base term is different. For ex:\n",
    "# 3**2*4**3 = 3x3x4x4x4 \n",
    "# can't simplify 3**2 together with 4**3"
   ]
  },
  {
   "cell_type": "code",
   "execution_count": 7,
   "id": "8e214ff4-7b23-48e7-a8e0-834c56491f03",
   "metadata": {},
   "outputs": [
    {
     "name": "stdout",
     "output_type": "stream",
     "text": [
      "1\n"
     ]
    }
   ],
   "source": [
    "3**2 # In python, double asterisk = to the power of "
   ]
  },
  {
   "cell_type": "code",
   "execution_count": 9,
   "id": "f3ece214-690e-4a69-8cd2-6965af3c6307",
   "metadata": {},
   "outputs": [
    {
     "data": {
      "text/plain": [
       "1"
      ]
     },
     "execution_count": 9,
     "metadata": {},
     "output_type": "execute_result"
    }
   ],
   "source": [
    "# Common misconception is that it's carrot ^. But carrot ^ actually represents the XOR gate\n",
    "3^2 # symmetric difference"
   ]
  },
  {
   "cell_type": "code",
   "execution_count": 10,
   "id": "8d5bae8f-44f7-434c-a218-1237d2715c93",
   "metadata": {},
   "outputs": [
    {
     "data": {
      "text/plain": [
       "729"
      ]
     },
     "execution_count": 10,
     "metadata": {},
     "output_type": "execute_result"
    }
   ],
   "source": [
    "x = 6\n",
    "3**x"
   ]
  },
  {
   "cell_type": "code",
   "execution_count": 11,
   "id": "e028fa61-c84c-4d84-8d0c-82f9797963cd",
   "metadata": {},
   "outputs": [
    {
     "name": "stdout",
     "output_type": "stream",
     "text": [
      "27\n",
      "27\n"
     ]
    }
   ],
   "source": [
    "print(3**3)\n",
    "print(3*3*3)"
   ]
  },
  {
   "cell_type": "code",
   "execution_count": 13,
   "id": "d13497c8-9be5-4b23-9133-e3b8fee17033",
   "metadata": {},
   "outputs": [
    {
     "name": "stdout",
     "output_type": "stream",
     "text": [
      "729\n"
     ]
    }
   ],
   "source": [
    "print(3**2 * 3**4) # automatically applies the order of ops\n",
    "# spacing doesn't matter"
   ]
  },
  {
   "cell_type": "code",
   "execution_count": 14,
   "id": "ff236b0b-2cc2-409b-a5ae-4fb996425505",
   "metadata": {},
   "outputs": [
    {
     "name": "stdout",
     "output_type": "stream",
     "text": [
      "729\n"
     ]
    }
   ],
   "source": [
    "print(3**(2+4)) # order of ops"
   ]
  },
  {
   "cell_type": "code",
   "execution_count": 15,
   "id": "50db2eb4-9e0f-438e-b7f2-5b0340577ef5",
   "metadata": {},
   "outputs": [
    {
     "data": {
      "text/plain": [
       "2.0"
      ]
     },
     "execution_count": 15,
     "metadata": {},
     "output_type": "execute_result"
    }
   ],
   "source": [
    "4**(1/2) # parenthesis alllow us to bring 4 to the power of 1/2 \n",
    "# rather than 4**1 divided by 2"
   ]
  },
  {
   "cell_type": "code",
   "execution_count": 16,
   "id": "407e025d-92ed-4c76-b871-34bc9a6c96ab",
   "metadata": {},
   "outputs": [
    {
     "data": {
      "text/plain": [
       "3.0"
      ]
     },
     "execution_count": 16,
     "metadata": {},
     "output_type": "execute_result"
    }
   ],
   "source": [
    "9**(1/2)"
   ]
  },
  {
   "cell_type": "code",
   "execution_count": 23,
   "id": "ca3929af-ca7d-4e12-b569-dbe9c9161a7a",
   "metadata": {},
   "outputs": [],
   "source": [
    "# LaTeX coding\n",
    "from IPython.display import display,Math # capitalization matters"
   ]
  },
  {
   "cell_type": "code",
   "execution_count": 28,
   "id": "0ff9a4fe-a5fa-4b0d-9929-169e319437af",
   "metadata": {},
   "outputs": [
    {
     "data": {
      "text/latex": [
       "$\\displaystyle 3^2\\times 3^4 = 3^{2+4}$"
      ],
      "text/plain": [
       "<IPython.core.display.Math object>"
      ]
     },
     "metadata": {},
     "output_type": "display_data"
    }
   ],
   "source": [
    "# ***********************************************************\n",
    "# * you actually do use the carrot ^ for exponents in LaTeX *\n",
    "# ***********************************************************\n",
    "display(Math('3^2\\\\times 3^4 = 3^{2+4}'))\n",
    "# ***********************************************************\n",
    "# * {} are used to group like terms instead of () in LaTeX  *\n",
    "# ***********************************************************"
   ]
  },
  {
   "cell_type": "code",
   "execution_count": null,
   "id": "22a6c9d8-93dd-4269-9727-76c1755040a8",
   "metadata": {},
   "outputs": [],
   "source": []
  }
 ],
 "metadata": {
  "kernelspec": {
   "display_name": "Python 3 (ipykernel)",
   "language": "python",
   "name": "python3"
  },
  "language_info": {
   "codemirror_mode": {
    "name": "ipython",
    "version": 3
   },
   "file_extension": ".py",
   "mimetype": "text/x-python",
   "name": "python",
   "nbconvert_exporter": "python",
   "pygments_lexer": "ipython3",
   "version": "3.11.7"
  }
 },
 "nbformat": 4,
 "nbformat_minor": 5
}
