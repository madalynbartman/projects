{
 "cells": [
  {
   "cell_type": "code",
   "execution_count": 1,
   "id": "f844691d-a14a-4e7c-bcfb-2101f76dcb1d",
   "metadata": {},
   "outputs": [
    {
     "data": {
      "text/plain": [
       "13"
      ]
     },
     "execution_count": 1,
     "metadata": {},
     "output_type": "execute_result"
    }
   ],
   "source": [
    "5+8"
   ]
  },
  {
   "cell_type": "code",
   "execution_count": 3,
   "id": "3e497c25-461c-440e-b526-52c23c7c56c6",
   "metadata": {},
   "outputs": [
    {
     "data": {
      "text/plain": [
       "12"
      ]
     },
     "execution_count": 3,
     "metadata": {},
     "output_type": "execute_result"
    }
   ],
   "source": [
    "4+8"
   ]
  },
  {
   "cell_type": "markdown",
   "id": "fa692b03-7f82-46b6-ac98-65e679b01c11",
   "metadata": {},
   "source": [
    "4 + 1 + 5"
   ]
  },
  {
   "cell_type": "code",
   "execution_count": 5,
   "id": "ecf5370c-6e62-42eb-8e40-1f0507212779",
   "metadata": {},
   "outputs": [
    {
     "data": {
      "text/plain": [
       "2"
      ]
     },
     "execution_count": 5,
     "metadata": {},
     "output_type": "execute_result"
    }
   ],
   "source": [
    "5 -3 # spaces aren't important"
   ]
  },
  {
   "cell_type": "code",
   "execution_count": 7,
   "id": "7e1f74a9-5f3c-464b-94ae-c73b3691e86a",
   "metadata": {},
   "outputs": [
    {
     "data": {
      "text/plain": [
       "9"
      ]
     },
     "execution_count": 7,
     "metadata": {},
     "output_type": "execute_result"
    }
   ],
   "source": [
    "3 * 3"
   ]
  },
  {
   "cell_type": "code",
   "execution_count": 9,
   "id": "8fde6955-e6f6-444b-ab77-791f0d7f70cd",
   "metadata": {},
   "outputs": [
    {
     "data": {
      "text/plain": [
       "6"
      ]
     },
     "execution_count": 9,
     "metadata": {},
     "output_type": "execute_result"
    }
   ],
   "source": [
    "3 * 3 + 2 - 5"
   ]
  },
  {
   "cell_type": "code",
   "execution_count": 10,
   "id": "5ea2c829-da0e-4700-9aa4-a0428e9ca584",
   "metadata": {},
   "outputs": [
    {
     "data": {
      "text/plain": [
       "0.75"
      ]
     },
     "execution_count": 10,
     "metadata": {},
     "output_type": "execute_result"
    }
   ],
   "source": [
    "3/4"
   ]
  },
  {
   "cell_type": "code",
   "execution_count": 11,
   "id": "7120fd68-22f5-44eb-9e00-edd8a91167af",
   "metadata": {},
   "outputs": [
    {
     "data": {
      "text/plain": [
       "0"
      ]
     },
     "execution_count": 11,
     "metadata": {},
     "output_type": "execute_result"
    }
   ],
   "source": [
    "3//4 # integer division"
   ]
  },
  {
   "cell_type": "code",
   "execution_count": 12,
   "id": "076521dc-8942-435a-a12c-089029610c54",
   "metadata": {},
   "outputs": [
    {
     "data": {
      "text/plain": [
       "1.75"
      ]
     },
     "execution_count": 12,
     "metadata": {},
     "output_type": "execute_result"
    }
   ],
   "source": [
    "1 + 3/4"
   ]
  },
  {
   "cell_type": "code",
   "execution_count": 13,
   "id": "8c471d63-7875-4b30-bf81-825682364007",
   "metadata": {},
   "outputs": [
    {
     "data": {
      "text/plain": [
       "1.0"
      ]
     },
     "execution_count": 13,
     "metadata": {},
     "output_type": "execute_result"
    }
   ],
   "source": [
    "(1 + 3)/4"
   ]
  },
  {
   "cell_type": "code",
   "execution_count": 16,
   "id": "df0c294c-d2f9-484f-a98d-773b698cbeb2",
   "metadata": {},
   "outputs": [
    {
     "data": {
      "text/plain": [
       "4.7"
      ]
     },
     "execution_count": 16,
     "metadata": {},
     "output_type": "execute_result"
    }
   ],
   "source": [
    "5-(2/4 * 3/5) # exercise 1"
   ]
  },
  {
   "cell_type": "code",
   "execution_count": 19,
   "id": "179398fa-aad2-4c0c-b046-061f03bc8892",
   "metadata": {},
   "outputs": [
    {
     "data": {
      "text/plain": [
       "-0.030303030303030304"
      ]
     },
     "execution_count": 19,
     "metadata": {},
     "output_type": "execute_result"
    }
   ],
   "source": [
    "(4-5) / (3+5*6) # exercise 2"
   ]
  },
  {
   "cell_type": "code",
   "execution_count": null,
   "id": "5ba6b822-ebe1-49ad-8b96-0538b567d8e7",
   "metadata": {},
   "outputs": [],
   "source": []
  }
 ],
 "metadata": {
  "kernelspec": {
   "display_name": "Python 3 (ipykernel)",
   "language": "python",
   "name": "python3"
  },
  "language_info": {
   "codemirror_mode": {
    "name": "ipython",
    "version": 3
   },
   "file_extension": ".py",
   "mimetype": "text/x-python",
   "name": "python",
   "nbconvert_exporter": "python",
   "pygments_lexer": "ipython3",
   "version": "3.11.7"
  }
 },
 "nbformat": 4,
 "nbformat_minor": 5
}
