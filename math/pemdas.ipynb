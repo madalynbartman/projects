{
 "cells": [
  {
   "cell_type": "code",
   "execution_count": 4,
   "id": "de959fb5-b230-4f91-b0ea-558b915109da",
   "metadata": {},
   "outputs": [
    {
     "name": "stdout",
     "output_type": "stream",
     "text": [
      "9\n"
     ]
    }
   ],
   "source": [
    "print(4+3 * 2-1)"
   ]
  },
  {
   "cell_type": "code",
   "execution_count": 5,
   "id": "c5d637a4-32ec-45f0-9cda-99c4a4f1d653",
   "metadata": {},
   "outputs": [
    {
     "name": "stdout",
     "output_type": "stream",
     "text": [
      "7\n"
     ]
    }
   ],
   "source": [
    "print((4+3) * (2-1))"
   ]
  },
  {
   "cell_type": "code",
   "execution_count": 16,
   "id": "680ac1ab-8d51-48bb-84ff-56ebc120d887",
   "metadata": {},
   "outputs": [
    {
     "name": "stdout",
     "output_type": "stream",
     "text": [
      "2.0\n"
     ]
    },
    {
     "data": {
      "text/plain": [
       "0.0"
      ]
     },
     "execution_count": 16,
     "metadata": {},
     "output_type": "execute_result"
    }
   ],
   "source": [
    "# exercise questions\n",
    "print((4 * 5) / (7 + 3)) # make it = 2\n",
    "9 / (3 + 6) - 1 # make it = 0"
   ]
  },
  {
   "cell_type": "code",
   "execution_count": null,
   "id": "72666cca-2bf8-4102-93a2-72013ee45646",
   "metadata": {},
   "outputs": [],
   "source": []
  }
 ],
 "metadata": {
  "kernelspec": {
   "display_name": "Python 3 (ipykernel)",
   "language": "python",
   "name": "python3"
  },
  "language_info": {
   "codemirror_mode": {
    "name": "ipython",
    "version": 3
   },
   "file_extension": ".py",
   "mimetype": "text/x-python",
   "name": "python",
   "nbconvert_exporter": "python",
   "pygments_lexer": "ipython3",
   "version": "3.11.7"
  }
 },
 "nbformat": 4,
 "nbformat_minor": 5
}
