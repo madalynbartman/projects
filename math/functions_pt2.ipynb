{
 "cells": [
  {
   "cell_type": "code",
   "execution_count": 3,
   "id": "c1b01778-f618-4c9d-b0d3-72ff7f6e7e5b",
   "metadata": {},
   "outputs": [],
   "source": [
    "from IPython.display import display, Math"
   ]
  },
  {
   "cell_type": "code",
   "execution_count": 32,
   "id": "7afc59b0-23c5-4959-a24b-5049763c2785",
   "metadata": {},
   "outputs": [],
   "source": [
    "# Exercise Question\n",
    "\n",
    "def powers(x,y):\n",
    "    display(Math('%g^{%g} = %g' %(x,y,x**y)))\n",
    "\n",
    "def division(x,y):\n",
    "    display(Math('\\\\frac{%g}{%g} = %g' %(x,y,x/y)))\n",
    "\n",
    "def mainfunction():\n",
    "    # get input from user\n",
    "    x = float(input('Input X:'))\n",
    "    y = float(input('Input Y:'))\n",
    "\n",
    "    display(Math('\\\\text{Press \"1\" to compute }%g^{%g}\\\\text{ or press \"2\" to compute }\\\\frac{%g}{%g}' %(x,y,x,y)))\n",
    "\n",
    "    switch = input(' ')\n",
    "\n",
    "    if switch=='1':\n",
    "        powers(x,y)\n",
    "    elif switch=='2':\n",
    "        division(x,y)\n",
    "    else:\n",
    "        print('Invalid selection!')"
   ]
  },
  {
   "cell_type": "code",
   "execution_count": null,
   "id": "f66af065-a37e-420b-aec5-6681bdd19320",
   "metadata": {},
   "outputs": [],
   "source": [
    "mainfunction()"
   ]
  },
  {
   "cell_type": "code",
   "execution_count": 31,
   "id": "1a9f64ee-17f0-4e30-b022-f781f6c589be",
   "metadata": {},
   "outputs": [
    {
     "name": "stdin",
     "output_type": "stream",
     "text": [
      "Input X: 4\n",
      "Input Y: 3\n"
     ]
    },
    {
     "name": "stdout",
     "output_type": "stream",
     "text": [
      "Press \"1\" to compute 4.0 to the power of 3.0 or press \"2\" to compute 4.0 / 3.0\n"
     ]
    },
    {
     "name": "stdin",
     "output_type": "stream",
     "text": [
      "  2\n"
     ]
    },
    {
     "name": "stdout",
     "output_type": "stream",
     "text": [
      "1.3333333333333333\n"
     ]
    }
   ],
   "source": [
    "# my answer\n",
    "x = float(input('Input X:'))\n",
    "y = float(input('Input Y:'))\n",
    "\n",
    "def func(x,y):\n",
    "    print('Press \"1\" to compute ' + str(x) + ' to the power of ' + str(y) + ' or press \"2\" to compute ' + str(x) + ' / ' + str(y))\n",
    "    \n",
    "    z = input(' ')\n",
    "\n",
    "    if z=='1':\n",
    "        print(x**y)\n",
    "    elif z=='2':\n",
    "        print(x/y)\n",
    "func(x,y)"
   ]
  },
  {
   "cell_type": "code",
   "execution_count": null,
   "id": "7aac8699-89e3-4d42-9263-a5c99a6f154a",
   "metadata": {},
   "outputs": [],
   "source": []
  }
 ],
 "metadata": {
  "kernelspec": {
   "display_name": "Python 3 (ipykernel)",
   "language": "python",
   "name": "python3"
  },
  "language_info": {
   "codemirror_mode": {
    "name": "ipython",
    "version": 3
   },
   "file_extension": ".py",
   "mimetype": "text/x-python",
   "name": "python",
   "nbconvert_exporter": "python",
   "pygments_lexer": "ipython3",
   "version": "3.8.10"
  }
 },
 "nbformat": 4,
 "nbformat_minor": 5
}
