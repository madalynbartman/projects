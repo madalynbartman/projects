{
 "cells": [
  {
   "cell_type": "code",
   "execution_count": 4,
   "id": "41f64086-0722-40fe-8f28-2ec05faea447",
   "metadata": {},
   "outputs": [],
   "source": [
    "from IPython.display import Math,display"
   ]
  },
  {
   "cell_type": "code",
   "execution_count": 5,
   "id": "6a0e27a2-d1bb-468d-a55c-d72d66deebac",
   "metadata": {},
   "outputs": [
    {
     "name": "stdout",
     "output_type": "stream",
     "text": [
      "4+3=7\n"
     ]
    }
   ],
   "source": [
    "print('4+3=7')"
   ]
  },
  {
   "cell_type": "code",
   "execution_count": 6,
   "id": "6e426fab-a694-4064-8e75-da70ecbe0acc",
   "metadata": {},
   "outputs": [
    {
     "data": {
      "text/latex": [
       "$\\displaystyle 4+3=7$"
      ],
      "text/plain": [
       "<IPython.core.display.Math object>"
      ]
     },
     "metadata": {},
     "output_type": "display_data"
    }
   ],
   "source": [
    "display(Math('4+3=7'))"
   ]
  },
  {
   "cell_type": "code",
   "execution_count": 8,
   "id": "8e3f04b9-01e0-4109-93cb-96a70afc51b8",
   "metadata": {},
   "outputs": [
    {
     "data": {
      "text/latex": [
       "$\\displaystyle \\sigma = \\mu \\times \\sqrt{5}$"
      ],
      "text/plain": [
       "<IPython.core.display.Math object>"
      ]
     },
     "metadata": {},
     "output_type": "display_data"
    }
   ],
   "source": [
    "display(Math('\\\\sigma = \\\\mu \\\\times \\\\sqrt{5}'))"
   ]
  },
  {
   "cell_type": "code",
   "execution_count": 11,
   "id": "92ba9165-9c32-4e8f-ad46-85693752caec",
   "metadata": {},
   "outputs": [
    {
     "data": {
      "text/latex": [
       "$\\displaystyle x_(mm) + y^{nk}$"
      ],
      "text/plain": [
       "<IPython.core.display.Math object>"
      ]
     },
     "metadata": {},
     "output_type": "display_data"
    }
   ],
   "source": [
    "display(Math('x_(mm) + y^{nk}'))"
   ]
  },
  {
   "cell_type": "code",
   "execution_count": 12,
   "id": "b47da581-c268-4045-92cf-6f4cde3ad5f7",
   "metadata": {},
   "outputs": [
    {
     "data": {
      "text/latex": [
       "$\\displaystyle \\sqrt{x}\\sqrt{x}$"
      ],
      "text/plain": [
       "<IPython.core.display.Math object>"
      ]
     },
     "metadata": {},
     "output_type": "display_data"
    }
   ],
   "source": [
    "display(Math('\\\\sqrt{x}\\\\sqrt{x}'))"
   ]
  },
  {
   "cell_type": "code",
   "execution_count": 15,
   "id": "82bc2310-7928-446f-9da7-41cbf22e1500",
   "metadata": {},
   "outputs": [
    {
     "data": {
      "text/latex": [
       "$\\displaystyle \\frac{1+x}{2v-s^{t+4r}}$"
      ],
      "text/plain": [
       "<IPython.core.display.Math object>"
      ]
     },
     "metadata": {},
     "output_type": "display_data"
    }
   ],
   "source": [
    "display(Math('\\\\frac{1+x}{2v-s^{t+4r}}'))"
   ]
  },
  {
   "cell_type": "code",
   "execution_count": 17,
   "id": "7d3ec169-3b75-434c-9151-95cd558f1d89",
   "metadata": {},
   "outputs": [
    {
     "data": {
      "text/latex": [
       "$\\displaystyle \\text{The answer to this equation is }\\frac{1+x}{2v-s^{t+4r}}$"
      ],
      "text/plain": [
       "<IPython.core.display.Math object>"
      ]
     },
     "metadata": {},
     "output_type": "display_data"
    }
   ],
   "source": [
    "display(Math('\\\\text{The answer to this equation is }\\\\frac{1+x}{2v-s^{t+4r}}'))"
   ]
  },
  {
   "cell_type": "markdown",
   "id": "6d4cf839-d458-4382-8cff-aecf6349c403",
   "metadata": {},
   "source": [
    "# This a markdown cell"
   ]
  },
  {
   "cell_type": "markdown",
   "id": "635fc4de-9833-4a5b-b5f2-981da96d5c2e",
   "metadata": {},
   "source": [
    "## double hastag = smaller"
   ]
  },
  {
   "cell_type": "markdown",
   "id": "8c2f2fd2-35af-4a78-b2d8-a8705f931ec0",
   "metadata": {},
   "source": [
    "### triple hashtag even smaller "
   ]
  },
  {
   "cell_type": "markdown",
   "id": "ecb57bfa-b381-40c8-bec9-d08c68763f3f",
   "metadata": {},
   "source": [
    "#### use esc + m to make a cell markdown"
   ]
  },
  {
   "cell_type": "markdown",
   "id": "bd01ac80-f924-4bdf-858f-bc41a3397039",
   "metadata": {},
   "source": [
    "# LaTex in markdown only needs one slash\n",
    "\n",
    "this cell is not for writing python\n",
    "\n",
    "$$\\frac{1+x}{2v-s^{t+4r}}$$\n"
   ]
  },
  {
   "cell_type": "code",
   "execution_count": 22,
   "id": "3108d288-345e-48fb-b69c-87a619069f57",
   "metadata": {},
   "outputs": [
    {
     "data": {
      "text/latex": [
       "$\\displaystyle 4x+5y-8z= 17$"
      ],
      "text/plain": [
       "<IPython.core.display.Math object>"
      ]
     },
     "metadata": {},
     "output_type": "display_data"
    },
    {
     "data": {
      "text/latex": [
       "$\\displaystyle \\sin(2\\pi f t + \\theta)$"
      ],
      "text/plain": [
       "<IPython.core.display.Math object>"
      ]
     },
     "metadata": {},
     "output_type": "display_data"
    },
    {
     "data": {
      "text/latex": [
       "$\\displaystyle e=mc^2$"
      ],
      "text/plain": [
       "<IPython.core.display.Math object>"
      ]
     },
     "metadata": {},
     "output_type": "display_data"
    },
    {
     "data": {
      "text/latex": [
       "$\\displaystyle \\frac{4+5x^2}{(1+x)(1-x)}$"
      ],
      "text/plain": [
       "<IPython.core.display.Math object>"
      ]
     },
     "metadata": {},
     "output_type": "display_data"
    }
   ],
   "source": [
    "# exercise questions (answer key):\n",
    "display(Math('4x+5y-8z= 17'))\n",
    "\n",
    "display(Math('\\\\sin(2\\\\pi f t + \\\\theta)'))\n",
    "\n",
    "display(Math('e=mc^2'))\n",
    "\n",
    "display(Math('\\\\frac{4+5x^2}{(1+x)(1-x)}'))"
   ]
  },
  {
   "cell_type": "code",
   "execution_count": null,
   "id": "540f0b6f-9e0b-42a0-bf52-cdf1023d8a10",
   "metadata": {},
   "outputs": [],
   "source": []
  }
 ],
 "metadata": {
  "kernelspec": {
   "display_name": "Python 3 (ipykernel)",
   "language": "python",
   "name": "python3"
  },
  "language_info": {
   "codemirror_mode": {
    "name": "ipython",
    "version": 3
   },
   "file_extension": ".py",
   "mimetype": "text/x-python",
   "name": "python",
   "nbconvert_exporter": "python",
   "pygments_lexer": "ipython3",
   "version": "3.8.10"
  }
 },
 "nbformat": 4,
 "nbformat_minor": 5
}
