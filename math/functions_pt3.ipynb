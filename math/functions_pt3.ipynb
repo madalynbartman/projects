{
 "cells": [
  {
   "cell_type": "code",
   "execution_count": null,
   "id": "d0fa9e13-a859-40e0-a0ff-74e9b2ad5c8c",
   "metadata": {},
   "outputs": [],
   "source": [
    "#import numpy, random\n",
    "\n",
    "#print(\"Input a number!\")\n",
    "#a = input(' ')\n",
    "#b = random.randint(1,11)\n",
    "#while True:\n",
    "#    if a != b:\n",
    "#    print(\"That's not it! Guess again or q to quit..\")\n",
    "#    a = input(' ')\n",
    "#        if a == q:\n",
    "#            break"
   ]
  },
  {
   "cell_type": "code",
   "execution_count": null,
   "id": "8912a299-e154-4640-8696-b71d96479e2d",
   "metadata": {},
   "outputs": [],
   "source": [
    "from numpy import random\n",
    "\n",
    "# function definition (no input necessary)\n",
    "\n",
    "def guessTheNumber():\n",
    "# generate rand int\n",
    "    num2guess = random.randint(1,101)\n",
    "\n",
    "# ask the user for a guess\n",
    "    userguess = int(input('Guess a number between 1 and 100: '))\n",
    "\n",
    "# check whether the nuber is a match\n",
    "    while userguess !=num2guess:\n",
    "        \n",
    "# if too low, print a message and ask for another guess\n",
    "        if userguess<num2guess:\n",
    "            print('Guess higher!')\n",
    "# if too high, print a message and ask for another guess\n",
    "        elif userguess>num2guess:\n",
    "            print('Guess lower!')\n",
    "\n",
    "        usergueess = int(input('Guess again: '))\n",
    "\n",
    "# if the guess is correct, congratulate the user!\n",
    "    print('Correct, grats!!')\n",
    "\n",
    "guessTheNumber()"
   ]
  },
  {
   "cell_type": "code",
   "execution_count": null,
   "id": "99c4881f-8d32-4d3d-bb97-4a7be2402c98",
   "metadata": {},
   "outputs": [],
   "source": [
    "guessTheNumber()"
   ]
  },
  {
   "cell_type": "code",
   "execution_count": null,
   "id": "3e814d79-42c1-4d56-95ae-58061d334ef4",
   "metadata": {},
   "outputs": [],
   "source": []
  }
 ],
 "metadata": {
  "kernelspec": {
   "display_name": "Python 3 (ipykernel)",
   "language": "python",
   "name": "python3"
  },
  "language_info": {
   "codemirror_mode": {
    "name": "ipython",
    "version": 3
   },
   "file_extension": ".py",
   "mimetype": "text/x-python",
   "name": "python",
   "nbconvert_exporter": "python",
   "pygments_lexer": "ipython3",
   "version": "3.8.10"
  }
 },
 "nbformat": 4,
 "nbformat_minor": 5
}
