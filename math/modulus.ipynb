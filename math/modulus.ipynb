{
 "cells": [
  {
   "cell_type": "code",
   "execution_count": 1,
   "id": "e2b09e19-8d1f-4b0c-a330-96149c4ea95d",
   "metadata": {},
   "outputs": [],
   "source": [
    "# the modulus is the remainder\n",
    "# the modulo operator returns the modulus\n",
    "# one useful application is to determine if number is odd or even"
   ]
  },
  {
   "cell_type": "code",
   "execution_count": 2,
   "id": "6569b4f2-9efe-458a-ae54-09f52264c002",
   "metadata": {},
   "outputs": [
    {
     "data": {
      "text/plain": [
       "3"
      ]
     },
     "execution_count": 2,
     "metadata": {},
     "output_type": "execute_result"
    }
   ],
   "source": [
    "a = 10\n",
    "b = 3 \n",
    "\n",
    "# integer division\n",
    "int(a/b)"
   ]
  },
  {
   "cell_type": "code",
   "execution_count": 3,
   "id": "13c73673-82cd-4a41-8aca-3f3e9e9bb3a7",
   "metadata": {},
   "outputs": [
    {
     "data": {
      "text/plain": [
       "1"
      ]
     },
     "execution_count": 3,
     "metadata": {},
     "output_type": "execute_result"
    }
   ],
   "source": [
    "a%b"
   ]
  },
  {
   "cell_type": "code",
   "execution_count": 4,
   "id": "ced204ab-0594-4e57-baf9-cc68f3a72342",
   "metadata": {},
   "outputs": [
    {
     "name": "stdout",
     "output_type": "stream",
     "text": [
      "3 goes into 9, 3 times with a remainder of 0\n"
     ]
    }
   ],
   "source": [
    "a = 9\n",
    "b = 3\n",
    "\n",
    "divis = int(a/b)\n",
    "remainder = a%b\n",
    "\n",
    "print('%g goes into %g, %g times with a remainder of %g' %(b,a,divis,remainder))"
   ]
  },
  {
   "cell_type": "code",
   "execution_count": 6,
   "id": "3bdef94d-82fd-4d3a-80f3-4252a49e7005",
   "metadata": {},
   "outputs": [
    {
     "name": "stdout",
     "output_type": "stream",
     "text": [
      "-5 is an odd number\n",
      "-4 is an even number\n",
      "-3 is an odd number\n",
      "-2 is an even number\n",
      "-1 is an odd number\n",
      "0 is an even number\n",
      "1 is an odd number\n",
      "2 is an even number\n",
      "3 is an odd number\n",
      "4 is an even number\n",
      "5 is an odd number\n"
     ]
    }
   ],
   "source": [
    "# exercise question\n",
    "for i in range(-5,6):\n",
    "    if i % 2 == 0:\n",
    "        print(i, 'is an even number')\n",
    "    else:\n",
    "        print(i, 'is an odd number')"
   ]
  },
  {
   "cell_type": "code",
   "execution_count": null,
   "id": "9a0d0f6a-7c13-42f4-9690-6614aea21c47",
   "metadata": {},
   "outputs": [],
   "source": []
  }
 ],
 "metadata": {
  "kernelspec": {
   "display_name": "Python 3 (ipykernel)",
   "language": "python",
   "name": "python3"
  },
  "language_info": {
   "codemirror_mode": {
    "name": "ipython",
    "version": 3
   },
   "file_extension": ".py",
   "mimetype": "text/x-python",
   "name": "python",
   "nbconvert_exporter": "python",
   "pygments_lexer": "ipython3",
   "version": "3.11.7"
  }
 },
 "nbformat": 4,
 "nbformat_minor": 5
}
