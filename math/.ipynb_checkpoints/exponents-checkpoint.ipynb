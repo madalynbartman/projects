{
 "cells": [
  {
   "cell_type": "code",
   "execution_count": 2,
   "id": "958855bc-9be7-40a0-9f9d-57f338bd18f4",
   "metadata": {},
   "outputs": [],
   "source": [
    "# the law of exponents\n",
    "# 3**2 = 3*3 \n",
    "# 3**4 = 3x3x3x3\n",
    "\n",
    "# not possible to simplify exponents when base term is different. For ex:\n",
    "# 3**2*4**3 = 3x3x4x4x4 \n",
    "# can't simplify 3**2 together with 4**3"
   ]
  },
  {
   "cell_type": "code",
   "execution_count": 3,
   "id": "8e214ff4-7b23-48e7-a8e0-834c56491f03",
   "metadata": {},
   "outputs": [
    {
     "data": {
      "text/plain": [
       "9"
      ]
     },
     "execution_count": 3,
     "metadata": {},
     "output_type": "execute_result"
    }
   ],
   "source": [
    "3**2 # In python, double asterisk = to the power of "
   ]
  },
  {
   "cell_type": "code",
   "execution_count": 4,
   "id": "f3ece214-690e-4a69-8cd2-6965af3c6307",
   "metadata": {},
   "outputs": [
    {
     "data": {
      "text/plain": [
       "1"
      ]
     },
     "execution_count": 4,
     "metadata": {},
     "output_type": "execute_result"
    }
   ],
   "source": [
    "# Common misconception is that it's carrot ^. But carrot ^ actually represents the XOR gate\n",
    "3^2 # symmetric difference"
   ]
  },
  {
   "cell_type": "code",
   "execution_count": 5,
   "id": "8d5bae8f-44f7-434c-a218-1237d2715c93",
   "metadata": {},
   "outputs": [
    {
     "data": {
      "text/plain": [
       "729"
      ]
     },
     "execution_count": 5,
     "metadata": {},
     "output_type": "execute_result"
    }
   ],
   "source": [
    "x = 6\n",
    "3**x"
   ]
  },
  {
   "cell_type": "code",
   "execution_count": 6,
   "id": "e028fa61-c84c-4d84-8d0c-82f9797963cd",
   "metadata": {},
   "outputs": [
    {
     "name": "stdout",
     "output_type": "stream",
     "text": [
      "27\n",
      "27\n"
     ]
    }
   ],
   "source": [
    "print(3**3)\n",
    "print(3*3*3)"
   ]
  },
  {
   "cell_type": "code",
   "execution_count": 7,
   "id": "d13497c8-9be5-4b23-9133-e3b8fee17033",
   "metadata": {},
   "outputs": [
    {
     "name": "stdout",
     "output_type": "stream",
     "text": [
      "729\n"
     ]
    }
   ],
   "source": [
    "print(3**2 * 3**4) # automatically applies the order of ops\n",
    "# spacing doesn't matter"
   ]
  },
  {
   "cell_type": "code",
   "execution_count": 8,
   "id": "ff236b0b-2cc2-409b-a5ae-4fb996425505",
   "metadata": {},
   "outputs": [
    {
     "name": "stdout",
     "output_type": "stream",
     "text": [
      "729\n"
     ]
    }
   ],
   "source": [
    "print(3**(2+4)) # order of ops"
   ]
  },
  {
   "cell_type": "code",
   "execution_count": 9,
   "id": "50db2eb4-9e0f-438e-b7f2-5b0340577ef5",
   "metadata": {},
   "outputs": [
    {
     "data": {
      "text/plain": [
       "2.0"
      ]
     },
     "execution_count": 9,
     "metadata": {},
     "output_type": "execute_result"
    }
   ],
   "source": [
    "4**(1/2) # parenthesis alllow us to bring 4 to the power of 1/2 \n",
    "# rather than 4**1 divided by 2"
   ]
  },
  {
   "cell_type": "code",
   "execution_count": 10,
   "id": "407e025d-92ed-4c76-b871-34bc9a6c96ab",
   "metadata": {},
   "outputs": [
    {
     "data": {
      "text/plain": [
       "3.0"
      ]
     },
     "execution_count": 10,
     "metadata": {},
     "output_type": "execute_result"
    }
   ],
   "source": [
    "9**(1/2)"
   ]
  },
  {
   "cell_type": "code",
   "execution_count": 11,
   "id": "ca3929af-ca7d-4e12-b569-dbe9c9161a7a",
   "metadata": {},
   "outputs": [],
   "source": [
    "# LaTeX coding\n",
    "from IPython.display import display,Math # capitalization matters"
   ]
  },
  {
   "cell_type": "code",
   "execution_count": 12,
   "id": "0ff9a4fe-a5fa-4b0d-9929-169e319437af",
   "metadata": {},
   "outputs": [
    {
     "data": {
      "text/latex": [
       "$\\displaystyle 3^2\\times 3^4 = 3^{2+4}$"
      ],
      "text/plain": [
       "<IPython.core.display.Math object>"
      ]
     },
     "metadata": {},
     "output_type": "display_data"
    }
   ],
   "source": [
    "# ***********************************************************\n",
    "# * you actually do use the carrot ^ for exponents in LaTeX *\n",
    "# ***********************************************************\n",
    "display(Math('3^2\\\\times 3^4 = 3^{2+4}'))\n",
    "# ***********************************************************\n",
    "# * {} are used to group like terms instead of () in LaTeX  *\n",
    "# ***********************************************************"
   ]
  },
  {
   "cell_type": "code",
   "execution_count": 13,
   "id": "22a6c9d8-93dd-4269-9727-76c1755040a8",
   "metadata": {},
   "outputs": [
    {
     "data": {
      "text/latex": [
       "$\\displaystyle x^{3/4} \\times 4^y = 3933.09$"
      ],
      "text/plain": [
       "<IPython.core.display.Math object>"
      ]
     },
     "metadata": {},
     "output_type": "display_data"
    }
   ],
   "source": [
    "x = 5 \n",
    "y = 5.1\n",
    "\n",
    "ans = x**(3/4) * 4**y\n",
    "display(Math('x^{3/4} \\\\times 4^y = %g' %ans))"
   ]
  },
  {
   "cell_type": "code",
   "execution_count": 14,
   "id": "d7aa7515-78b6-4cd4-9be2-fa206c8905ce",
   "metadata": {},
   "outputs": [
    {
     "data": {
      "text/latex": [
       "$\\displaystyle \\frac{3^3}{x^y}$"
      ],
      "text/plain": [
       "<IPython.core.display.Math object>"
      ]
     },
     "metadata": {},
     "output_type": "display_data"
    }
   ],
   "source": [
    "ans = (3**3) / (x**y)\n",
    "display(Math('\\\\frac{3^3}{x^y}'))"
   ]
  },
  {
   "cell_type": "code",
   "execution_count": 15,
   "id": "9665ee62-ac8b-44a2-a6c7-f5a81afabe22",
   "metadata": {},
   "outputs": [
    {
     "data": {
      "text/latex": [
       "$\\displaystyle 10^{x-4} = 10$"
      ],
      "text/plain": [
       "<IPython.core.display.Math object>"
      ]
     },
     "metadata": {},
     "output_type": "display_data"
    }
   ],
   "source": [
    "solution = 10**(x-4)\n",
    "display(Math('10^{x-4} = %g' %solution))"
   ]
  },
  {
   "cell_type": "code",
   "execution_count": null,
   "id": "4632b1b4-e730-4246-a869-3562a9b9a26e",
   "metadata": {},
   "outputs": [],
   "source": []
  }
 ],
 "metadata": {
  "kernelspec": {
   "display_name": "Python 3 (ipykernel)",
   "language": "python",
   "name": "python3"
  },
  "language_info": {
   "codemirror_mode": {
    "name": "ipython",
    "version": 3
   },
   "file_extension": ".py",
   "mimetype": "text/x-python",
   "name": "python",
   "nbconvert_exporter": "python",
   "pygments_lexer": "ipython3",
   "version": "3.11.7"
  }
 },
 "nbformat": 4,
 "nbformat_minor": 5
}
