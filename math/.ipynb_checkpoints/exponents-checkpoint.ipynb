{
 "cells": [
  {
   "cell_type": "code",
   "execution_count": 1,
   "id": "958855bc-9be7-40a0-9f9d-57f338bd18f4",
   "metadata": {},
   "outputs": [],
   "source": [
    "# the law of exponents\n",
    "# 3**2 = 3*3 \n",
    "# 3**4 = 3x3x3x3\n",
    "\n",
    "# not possible to simplify exponents when base term is different. For ex:\n",
    "# 3**2*4**3 = 3x3x4x4x4 \n",
    "# can't simplify 3**2 together with 4**3"
   ]
  },
  {
   "cell_type": "code",
   "execution_count": 7,
   "id": "8e214ff4-7b23-48e7-a8e0-834c56491f03",
   "metadata": {},
   "outputs": [
    {
     "name": "stdout",
     "output_type": "stream",
     "text": [
      "1\n"
     ]
    }
   ],
   "source": [
    "3**2 # In python, double asterisk = to the power of "
   ]
  },
  {
   "cell_type": "code",
   "execution_count": 9,
   "id": "f3ece214-690e-4a69-8cd2-6965af3c6307",
   "metadata": {},
   "outputs": [
    {
     "data": {
      "text/plain": [
       "1"
      ]
     },
     "execution_count": 9,
     "metadata": {},
     "output_type": "execute_result"
    }
   ],
   "source": [
    "# Common misconception is that it's carrot ^. But carrot ^ actually represents the XOR gate\n",
    "3^2 # symmetric difference"
   ]
  },
  {
   "cell_type": "code",
   "execution_count": null,
   "id": "8d5bae8f-44f7-434c-a218-1237d2715c93",
   "metadata": {},
   "outputs": [],
   "source": []
  }
 ],
 "metadata": {
  "kernelspec": {
   "display_name": "Python 3 (ipykernel)",
   "language": "python",
   "name": "python3"
  },
  "language_info": {
   "codemirror_mode": {
    "name": "ipython",
    "version": 3
   },
   "file_extension": ".py",
   "mimetype": "text/x-python",
   "name": "python",
   "nbconvert_exporter": "python",
   "pygments_lexer": "ipython3",
   "version": "3.11.7"
  }
 },
 "nbformat": 4,
 "nbformat_minor": 5
}
