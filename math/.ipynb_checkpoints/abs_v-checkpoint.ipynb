{
 "cells": [
  {
   "cell_type": "code",
   "execution_count": 1,
   "id": "e64af8fb-92a2-4e8f-8b50-0bf88ebab187",
   "metadata": {},
   "outputs": [],
   "source": [
    "# absolute value is the distance of the number to the origin of the number line\n",
    "# Notation: abs(x) or |x|"
   ]
  },
  {
   "cell_type": "code",
   "execution_count": 3,
   "id": "0b635178-fd75-488b-9250-24cca9f5940e",
   "metadata": {},
   "outputs": [
    {
     "data": {
      "text/plain": [
       "(-4, 4)"
      ]
     },
     "execution_count": 3,
     "metadata": {},
     "output_type": "execute_result"
    }
   ],
   "source": [
    "a = -4\n",
    "b = abs(a)\n",
    "a,b"
   ]
  },
  {
   "cell_type": "code",
   "execution_count": 11,
   "id": "244c36d0-ed5c-4b87-a329-57a30660844e",
   "metadata": {},
   "outputs": [
    {
     "data": {
      "text/latex": [
       "$\\displaystyle |-4.3| = 4.3$"
      ],
      "text/plain": [
       "<IPython.core.display.Math object>"
      ]
     },
     "metadata": {},
     "output_type": "display_data"
    }
   ],
   "source": [
    "from IPython.display import display,Math\n",
    "\n",
    "x = -4.3\n",
    "\n",
    "display(Math('|%g| = %g' %(x,abs(x))))"
   ]
  },
  {
   "cell_type": "code",
   "execution_count": 21,
   "id": "040176c7-419f-46b7-b854-e166b731a8ff",
   "metadata": {},
   "outputs": [
    {
     "name": "stdout",
     "output_type": "stream",
     "text": [
      "-4 was not tested\n",
      "the absolute value of 6 is 6\n",
      "-1 was not tested\n",
      "the absolute value of 43 is 43\n",
      "the absolute value of -18 is 18\n",
      "2 was not tested\n",
      "0 was not tested\n"
     ]
    }
   ],
   "source": [
    "# exercise question\n",
    "for i in [-4, 6, -1, 43, -18, 2, 0]:\n",
    "    if i < -5 or i > 2:\n",
    "        print('the absolute value of', i, 'is', abs(i))\n",
    "    else:\n",
    "        print(i,'was not tested')"
   ]
  },
  {
   "cell_type": "code",
   "execution_count": null,
   "id": "be13cbe6-2b11-4ea1-bb9c-3f579ce2dbd7",
   "metadata": {},
   "outputs": [],
   "source": []
  }
 ],
 "metadata": {
  "kernelspec": {
   "display_name": "Python 3 (ipykernel)",
   "language": "python",
   "name": "python3"
  },
  "language_info": {
   "codemirror_mode": {
    "name": "ipython",
    "version": 3
   },
   "file_extension": ".py",
   "mimetype": "text/x-python",
   "name": "python",
   "nbconvert_exporter": "python",
   "pygments_lexer": "ipython3",
   "version": "3.11.7"
  }
 },
 "nbformat": 4,
 "nbformat_minor": 5
}
