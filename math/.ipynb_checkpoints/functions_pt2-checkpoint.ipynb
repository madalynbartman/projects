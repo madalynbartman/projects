{
 "cells": [
  {
   "cell_type": "code",
   "execution_count": 1,
   "id": "c1b01778-f618-4c9d-b0d3-72ff7f6e7e5b",
   "metadata": {},
   "outputs": [],
   "source": [
    "import math"
   ]
  },
  {
   "cell_type": "code",
   "execution_count": 4,
   "id": "7afc59b0-23c5-4959-a24b-5049763c2785",
   "metadata": {},
   "outputs": [
    {
     "ename": "SyntaxError",
     "evalue": "invalid syntax (734562458.py, line 7)",
     "output_type": "error",
     "traceback": [
      "\u001b[0;36m  Cell \u001b[0;32mIn[4], line 7\u001b[0;36m\u001b[0m\n\u001b[0;31m    if c == \"1\":\u001b[0m\n\u001b[0m               ^\u001b[0m\n\u001b[0;31mSyntaxError\u001b[0m\u001b[0;31m:\u001b[0m invalid syntax\n"
     ]
    }
   ],
   "source": [
    "def first_question():\n",
    "    x = 2\n",
    "    y = 4\n",
    "    \n",
    "    c = input(print(\"Press 1 to compute 2^4 or 2 to compute 2/4:\")\n",
    "    one = \"1\"\n",
    "    two = \"2\"\n",
    "    \n",
    "    if c == one:\n",
    "        print(\"2^4 is: \", 2**4)\n",
    "    elif c == two:\n",
    "        print(\"2/4 is: \", 2/4)\n",
    "    else: \n",
    "        print(\"Invalid response!\")\n"
   ]
  },
  {
   "cell_type": "code",
   "execution_count": null,
   "id": "f66af065-a37e-420b-aec5-6681bdd19320",
   "metadata": {},
   "outputs": [],
   "source": []
  }
 ],
 "metadata": {
  "kernelspec": {
   "display_name": "Python 3 (ipykernel)",
   "language": "python",
   "name": "python3"
  },
  "language_info": {
   "codemirror_mode": {
    "name": "ipython",
    "version": 3
   },
   "file_extension": ".py",
   "mimetype": "text/x-python",
   "name": "python",
   "nbconvert_exporter": "python",
   "pygments_lexer": "ipython3",
   "version": "3.8.10"
  }
 },
 "nbformat": 4,
 "nbformat_minor": 5
}
