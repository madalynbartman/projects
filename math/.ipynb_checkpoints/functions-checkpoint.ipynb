{
 "cells": [
  {
   "cell_type": "code",
   "execution_count": 1,
   "id": "961e37fc-2b11-4069-8903-a1d85b9629da",
   "metadata": {},
   "outputs": [],
   "source": [
    "def myfunction():\n",
    "    print('hello world')"
   ]
  },
  {
   "cell_type": "code",
   "execution_count": 2,
   "id": "8d5f242f-6c36-474a-9f65-c1d303bcfffb",
   "metadata": {},
   "outputs": [
    {
     "name": "stdout",
     "output_type": "stream",
     "text": [
      "hello world\n"
     ]
    }
   ],
   "source": [
    "myfunction()"
   ]
  },
  {
   "cell_type": "code",
   "execution_count": 3,
   "id": "92b22b2f-22fd-4fa2-98c6-6b23bea6f605",
   "metadata": {},
   "outputs": [
    {
     "data": {
      "text/plain": [
       "3"
      ]
     },
     "execution_count": 3,
     "metadata": {},
     "output_type": "execute_result"
    }
   ],
   "source": [
    "int(3.2)"
   ]
  },
  {
   "cell_type": "code",
   "execution_count": 7,
   "id": "3a04c40c-86fd-42c6-922d-49f1087d654e",
   "metadata": {},
   "outputs": [],
   "source": [
    "def myfunction(name):\n",
    "    print('Hello %s' %name)"
   ]
  },
  {
   "cell_type": "code",
   "execution_count": 9,
   "id": "306acf48-4ba3-46b7-9934-4e2ee7b7ada4",
   "metadata": {},
   "outputs": [
    {
     "name": "stdout",
     "output_type": "stream",
     "text": [
      "Hello Biggie\n"
     ]
    }
   ],
   "source": [
    "myfunction('Biggie')"
   ]
  },
  {
   "cell_type": "code",
   "execution_count": 10,
   "id": "440d1d4a-b3ba-4ef7-8a17-b511ff8a8d82",
   "metadata": {},
   "outputs": [],
   "source": [
    "def compute_remainder(x,y):\n",
    "    divis = int(x/y)\n",
    "    remainder = x%y\n",
    "\n",
    "    print('%g goes into %g, %g times with a remainder of %g' %(y,x,divis,remainder))"
   ]
  },
  {
   "cell_type": "code",
   "execution_count": 18,
   "id": "7521ec29-cd06-4168-841b-5cdaf8413d20",
   "metadata": {},
   "outputs": [
    {
     "name": "stdout",
     "output_type": "stream",
     "text": [
      "7 goes into 17, 2 times with a remainder of 3\n"
     ]
    }
   ],
   "source": [
    "compute_remainder(17,7)"
   ]
  },
  {
   "cell_type": "code",
   "execution_count": 21,
   "id": "e2e7061c-110b-4d33-81a2-2bbd32e5e64f",
   "metadata": {},
   "outputs": [
    {
     "name": "stdin",
     "output_type": "stream",
     "text": [
      "input a number  4\n"
     ]
    }
   ],
   "source": [
    "a = int(input('input a number '))"
   ]
  },
  {
   "cell_type": "code",
   "execution_count": 22,
   "id": "9e49c925-b3e9-40ba-8337-da84f28c2a74",
   "metadata": {},
   "outputs": [
    {
     "data": {
      "text/plain": [
       "int"
      ]
     },
     "execution_count": 22,
     "metadata": {},
     "output_type": "execute_result"
    }
   ],
   "source": [
    "type(a)"
   ]
  },
  {
   "cell_type": "code",
   "execution_count": 27,
   "id": "f2d6c09b-0b6e-4bde-ac97-95bf4b132487",
   "metadata": {},
   "outputs": [],
   "source": [
    "def division_with_input():\n",
    "\n",
    "    x = int(input('Input the numerator:'))\n",
    "    y = int(input('Input the denominator:'))\n",
    "\n",
    "    divis = int(x/y)\n",
    "    remainder = x%y\n",
    "\n",
    "    print('%g goes into %g, %g times with a remainder of %g' %(y,x,divis,remainder))"
   ]
  },
  {
   "cell_type": "code",
   "execution_count": 28,
   "id": "443716ee-1a23-4568-97ff-3a5b40a54b8d",
   "metadata": {},
   "outputs": [
    {
     "name": "stdin",
     "output_type": "stream",
     "text": [
      "Input the numerator: 5\n",
      "Input the denominator: 7\n"
     ]
    },
    {
     "name": "stdout",
     "output_type": "stream",
     "text": [
      "7 goes into 5, 0 times with a remainder of 5\n"
     ]
    }
   ],
   "source": [
    "division_with_input()"
   ]
  },
  {
   "cell_type": "code",
   "execution_count": null,
   "id": "6df7f2f5-65da-43df-b15a-288f25153ee0",
   "metadata": {},
   "outputs": [],
   "source": []
  }
 ],
 "metadata": {
  "kernelspec": {
   "display_name": "Python 3 (ipykernel)",
   "language": "python",
   "name": "python3"
  },
  "language_info": {
   "codemirror_mode": {
    "name": "ipython",
    "version": 3
   },
   "file_extension": ".py",
   "mimetype": "text/x-python",
   "name": "python",
   "nbconvert_exporter": "python",
   "pygments_lexer": "ipython3",
   "version": "3.11.7"
  }
 },
 "nbformat": 4,
 "nbformat_minor": 5
}
