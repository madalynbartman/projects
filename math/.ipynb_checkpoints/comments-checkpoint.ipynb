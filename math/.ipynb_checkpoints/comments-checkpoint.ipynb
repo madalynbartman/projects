{
 "cells": [
  {
   "cell_type": "code",
   "execution_count": 5,
   "id": "d55bdf69-c84f-4449-a613-ab0ff9faa98c",
   "metadata": {},
   "outputs": [
    {
     "data": {
      "text/plain": [
       "3"
      ]
     },
     "execution_count": 5,
     "metadata": {},
     "output_type": "execute_result"
    }
   ],
   "source": [
    "y = 3 # this is a comment\n",
    "x = 5\n",
    "y\n",
    "\n",
    "# toggle ctrl + / anywhere in a line to comment it\n",
    "# ctrl + / works with multiple lines too"
   ]
  },
  {
   "cell_type": "code",
   "execution_count": null,
   "id": "af4565c7-8552-41de-8251-41d87fe9ccda",
   "metadata": {},
   "outputs": [],
   "source": []
  }
 ],
 "metadata": {
  "kernelspec": {
   "display_name": "Python 3 (ipykernel)",
   "language": "python",
   "name": "python3"
  },
  "language_info": {
   "codemirror_mode": {
    "name": "ipython",
    "version": 3
   },
   "file_extension": ".py",
   "mimetype": "text/x-python",
   "name": "python",
   "nbconvert_exporter": "python",
   "pygments_lexer": "ipython3",
   "version": "3.11.7"
  }
 },
 "nbformat": 4,
 "nbformat_minor": 5
}
