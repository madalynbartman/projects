{
 "cells": [
  {
   "cell_type": "code",
   "execution_count": 11,
   "id": "d0fa9e13-a859-40e0-a0ff-74e9b2ad5c8c",
   "metadata": {},
   "outputs": [
    {
     "ename": "IndentationError",
     "evalue": "expected an indented block (908395634.py, line 8)",
     "output_type": "error",
     "traceback": [
      "\u001b[0;36m  Cell \u001b[0;32mIn[11], line 8\u001b[0;36m\u001b[0m\n\u001b[0;31m    print(\"That's not it! Guess again or q to quit..\")\u001b[0m\n\u001b[0m    ^\u001b[0m\n\u001b[0;31mIndentationError\u001b[0m\u001b[0;31m:\u001b[0m expected an indented block\n"
     ]
    }
   ],
   "source": [
    "import numpy, random\n",
    "\n",
    "print(\"Input a number!\")\n",
    "a = input(' ')\n",
    "b = random.randint(1,11)\n",
    "while True:\n",
    "    if a != b:\n",
    "    print(\"That's not it! Guess again or q to quit..\")\n",
    "    a = input(' ')\n",
    "        if a == q:\n",
    "            break"
   ]
  },
  {
   "cell_type": "code",
   "execution_count": 13,
   "id": "8912a299-e154-4640-8696-b71d96479e2d",
   "metadata": {},
   "outputs": [
    {
     "data": {
      "text/plain": [
       "3"
      ]
     },
     "execution_count": 13,
     "metadata": {},
     "output_type": "execute_result"
    }
   ],
   "source": [
    "from numpy import random\n",
    "\n",
    "random.randint(1,5)\n",
    "\n",
    "# function definition (no input necessary)\n",
    "\n",
    "def guessTheNumber():\n",
    "# generate rand int\n",
    "    num2guess = random.randint(1,101)\n",
    "\n",
    "# ask the user for a guess\n",
    "    userguess = input('Guess a number between 1 and 100: '))\n",
    "\n",
    "# check whether the nuber is a match\n",
    "    while userguess !=num2guess:\n",
    "        \n",
    "# if too low, print a message and ask for another guess\n",
    "        if userguess<num2guess:\n",
    "            print('Guess higher!')\n",
    "        elif userguess>num2guess:\n",
    "            print('Guess lower!')\n",
    "\n",
    "# if too high, print a message and ask for another guess\n",
    "\n",
    "# if the guess is correct, congratulate the user!"
   ]
  },
  {
   "cell_type": "code",
   "execution_count": null,
   "id": "99c4881f-8d32-4d3d-bb97-4a7be2402c98",
   "metadata": {},
   "outputs": [],
   "source": []
  }
 ],
 "metadata": {
  "kernelspec": {
   "display_name": "Python 3 (ipykernel)",
   "language": "python",
   "name": "python3"
  },
  "language_info": {
   "codemirror_mode": {
    "name": "ipython",
    "version": 3
   },
   "file_extension": ".py",
   "mimetype": "text/x-python",
   "name": "python",
   "nbconvert_exporter": "python",
   "pygments_lexer": "ipython3",
   "version": "3.8.10"
  }
 },
 "nbformat": 4,
 "nbformat_minor": 5
}
