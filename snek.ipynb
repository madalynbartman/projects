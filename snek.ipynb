{
 "cells": [
  {
   "cell_type": "code",
   "execution_count": 5,
   "metadata": {},
   "outputs": [
    {
     "name": "stdout",
     "output_type": "stream",
     "text": [
      "3\n"
     ]
    }
   ],
   "source": [
    "x = 3\n",
    "print(x)"
   ]
  },
  {
   "cell_type": "code",
   "execution_count": 6,
   "metadata": {},
   "outputs": [
    {
     "name": "stdout",
     "output_type": "stream",
     "text": [
      "3.0\n"
     ]
    }
   ],
   "source": [
    "x = 9\n",
    "y = 3\n",
    "result = x / y\n",
    "print(result)"
   ]
  },
  {
   "cell_type": "code",
   "execution_count": 7,
   "metadata": {},
   "outputs": [
    {
     "name": "stdout",
     "output_type": "stream",
     "text": [
      "3\n"
     ]
    }
   ],
   "source": [
    "x = 9\n",
    "y = 3\n",
    "result = x //y # gives us the int result\n",
    "print(result)"
   ]
  },
  {
   "cell_type": "code",
   "execution_count": 10,
   "metadata": {},
   "outputs": [
    {
     "name": "stdout",
     "output_type": "stream",
     "text": [
      "1\n"
     ]
    }
   ],
   "source": [
    "x = 10\n",
    "y = 3\n",
    "result = x % y # mod returns the remainder\n",
    "print(result)"
   ]
  },
  {
   "cell_type": "code",
   "execution_count": 12,
   "metadata": {},
   "outputs": [],
   "source": [
    "# Standard order of ops (not just for python)\n",
    "# Brackets\n",
    "# Exponents \n",
    "# Division\n",
    "# Multiplication\n",
    "# Addition\n",
    "# Subtraction\n",
    "# (If you use mod, it will be at the lowest level after addition and subtraction)\n"
   ]
  },
  {
   "cell_type": "code",
   "execution_count": 13,
   "metadata": {},
   "outputs": [],
   "source": [
    "num = input('Number: ')\n",
    "# print(num - 5)  will error since the input is automatically returned as a string\n",
    "print(int(num) - 5) # will convert the string to an int\n",
    "# string '10' -> int 10"
   ]
  },
  {
   "cell_type": "code",
   "execution_count": 1,
   "metadata": {},
   "outputs": [
    {
     "ename": "ValueError",
     "evalue": "could not convert string to float: ''",
     "output_type": "error",
     "traceback": [
      "\u001b[1;31m---------------------------------------------------------------------------\u001b[0m",
      "\u001b[1;31mValueError\u001b[0m                                Traceback (most recent call last)",
      "Cell \u001b[1;32mIn[1], line 2\u001b[0m\n\u001b[0;32m      1\u001b[0m num \u001b[38;5;241m=\u001b[39m \u001b[38;5;28minput\u001b[39m(\u001b[38;5;124m'\u001b[39m\u001b[38;5;124mNumber: \u001b[39m\u001b[38;5;124m'\u001b[39m)\n\u001b[1;32m----> 2\u001b[0m \u001b[38;5;28mprint\u001b[39m(\u001b[38;5;28;43mfloat\u001b[39;49m\u001b[43m(\u001b[49m\u001b[43mnum\u001b[49m\u001b[43m)\u001b[49m \u001b[38;5;241m-\u001b[39m \u001b[38;5;241m5\u001b[39m) \n",
      "\u001b[1;31mValueError\u001b[0m: could not convert string to float: ''"
     ]
    }
   ],
   "source": [
    "num = input('Number: ')\n",
    "print(float(num) - 5) "
   ]
  },
  {
   "cell_type": "code",
   "execution_count": 2,
   "metadata": {},
   "outputs": [
    {
     "name": "stdout",
     "output_type": "stream",
     "text": [
      "<class 'str'>\n"
     ]
    }
   ],
   "source": [
    "hello = 'hello'\n",
    "print(type(hello))"
   ]
  },
  {
   "cell_type": "code",
   "execution_count": 5,
   "metadata": {},
   "outputs": [
    {
     "name": "stdout",
     "output_type": "stream",
     "text": [
      "HELLO\n"
     ]
    }
   ],
   "source": [
    "# a method is something with a dot operator, a name, and ()\n",
    "hello = 'hello' # calls the upper method\n",
    "print(hello.upper()) "
   ]
  },
  {
   "cell_type": "code",
   "execution_count": 7,
   "metadata": {},
   "outputs": [
    {
     "name": "stdout",
     "output_type": "stream",
     "text": [
      "Hello\n"
     ]
    }
   ],
   "source": [
    "hello = 'hello'\n",
    "print(hello.capitalize()) "
   ]
  },
  {
   "cell_type": "code",
   "execution_count": 13,
   "metadata": {},
   "outputs": [
    {
     "name": "stdout",
     "output_type": "stream",
     "text": [
      "1\n"
     ]
    }
   ],
   "source": [
    "hello = 'hello'\n",
    "print(hello.count('h')) # count is case sensitive"
   ]
  },
  {
   "cell_type": "code",
   "execution_count": 20,
   "metadata": {},
   "outputs": [
    {
     "name": "stdout",
     "output_type": "stream",
     "text": [
      "hellohellohello\n",
      "helloyes\n"
     ]
    }
   ],
   "source": [
    "# string multiplication and division\n",
    "x = 'hello' \n",
    "y = 3\n",
    "z = 'yes'\n",
    "\n",
    "print(x * y)\n",
    "print(x + z)"
   ]
  },
  {
   "cell_type": "code",
   "execution_count": 24,
   "metadata": {},
   "outputs": [
    {
     "name": "stdout",
     "output_type": "stream",
     "text": [
      "True\n",
      "False\n"
     ]
    }
   ],
   "source": [
    "x = \"hello\"\n",
    "y = 'hello'\n",
    "\n",
    "print (x == y)\n",
    "print (x != y)"
   ]
  },
  {
   "cell_type": "code",
   "execution_count": 27,
   "metadata": {},
   "outputs": [
    {
     "name": "stdout",
     "output_type": "stream",
     "text": [
      "True\n",
      "97\n",
      "90\n"
     ]
    }
   ],
   "source": [
    "print('a' > 'Z')\n",
    "print(ord('a')) # comparing ASCII ordinal values \n",
    "print(ord('Z'))"
   ]
  },
  {
   "cell_type": "code",
   "execution_count": 30,
   "metadata": {},
   "outputs": [
    {
     "name": "stdout",
     "output_type": "stream",
     "text": [
      "False\n",
      "True\n"
     ]
    }
   ],
   "source": [
    "print(7.5 == 7 )\n",
    "print(7.0 == 7 )"
   ]
  },
  {
   "cell_type": "code",
   "execution_count": 38,
   "metadata": {},
   "outputs": [
    {
     "name": "stdout",
     "output_type": "stream",
     "text": [
      "True\n",
      "False\n"
     ]
    }
   ],
   "source": [
    "x = 7\n",
    "y = 8\n",
    "z = 0\n",
    "\n",
    "result1 = x == y\n",
    "result2 = y > x\n",
    "result3 = z < x + 2\n",
    "\n",
    "result4 = result1 or result2 or result3\n",
    "print(result4)\n",
    "\n",
    "result4 = result1 or not result2 or not result3\n",
    "print(result4) "
   ]
  },
  {
   "cell_type": "code",
   "execution_count": 42,
   "metadata": {},
   "outputs": [
    {
     "name": "stdout",
     "output_type": "stream",
     "text": [
      "False\n"
     ]
    }
   ],
   "source": [
    "print (not (False or True))"
   ]
  },
  {
   "cell_type": "code",
   "execution_count": 41,
   "metadata": {},
   "outputs": [],
   "source": [
    "# logic order of ops\n",
    "# not\n",
    "# and\n",
    "# or"
   ]
  },
  {
   "cell_type": "code",
   "execution_count": 50,
   "metadata": {},
   "outputs": [
    {
     "name": "stdout",
     "output_type": "stream",
     "text": [
      "Always do this\n"
     ]
    }
   ],
   "source": [
    "x = input('Name: ')\n",
    "\n",
    "if x == 'Biggie':\n",
    "    print('You are great!')\n",
    "elif x == 'Joe':\n",
    "    print('Bye Joe')\n",
    "else: # you don't need an else statement in pythion. it will just print nothing if the input doesn't match the params\n",
    "    print('No')\n",
    "\n",
    "print('Always do this')"
   ]
  },
  {
   "cell_type": "code",
   "execution_count": 51,
   "metadata": {},
   "outputs": [
    {
     "name": "stdout",
     "output_type": "stream",
     "text": [
      "3\n"
     ]
    }
   ],
   "source": [
    "# a collection is an unordered or ordered group of elements\n",
    "# elements do not need to be the same type\n",
    "# a list is an ordered collection of elements\n",
    "x = [4, True, 'hi']\n",
    "print(len(x))"
   ]
  },
  {
   "cell_type": "code",
   "execution_count": 53,
   "metadata": {},
   "outputs": [
    {
     "name": "stdout",
     "output_type": "stream",
     "text": [
      "3\n",
      "2\n"
     ]
    }
   ],
   "source": [
    "x = [4, True, 'hi']\n",
    "y = 'hi'\n",
    "print(len(x))\n",
    "print(len(y))"
   ]
  },
  {
   "cell_type": "code",
   "execution_count": 54,
   "metadata": {},
   "outputs": [
    {
     "name": "stdout",
     "output_type": "stream",
     "text": [
      "[4, True, 'hi', 'hello']\n"
     ]
    }
   ],
   "source": [
    "x = [4, True, 'hi']\n",
    "x.append('hello')\n",
    "print(x)"
   ]
  },
  {
   "cell_type": "code",
   "execution_count": 55,
   "metadata": {},
   "outputs": [
    {
     "name": "stdout",
     "output_type": "stream",
     "text": [
      "[4, True, 'hi', 4, 5, 5, 5, 5, 5]\n"
     ]
    }
   ],
   "source": [
    "x = [4, True, 'hi']\n",
    "x.extend([4,5,5,5,5,5])\n",
    "print(x)"
   ]
  },
  {
   "cell_type": "code",
   "execution_count": 56,
   "metadata": {},
   "outputs": [
    {
     "name": "stdout",
     "output_type": "stream",
     "text": [
      "hi\n",
      "[4, True]\n"
     ]
    }
   ],
   "source": [
    "x = [4, True, 'hi']\n",
    "print(x.pop()) # pops something off the end of the list\n",
    "print(x)"
   ]
  },
  {
   "cell_type": "code",
   "execution_count": 57,
   "metadata": {},
   "outputs": [
    {
     "name": "stdout",
     "output_type": "stream",
     "text": [
      "4\n",
      "[True, 'hi']\n"
     ]
    }
   ],
   "source": [
    "x = [4, True, 'hi']\n",
    "print(x.pop(0)) # pop also accepts an index as an argument\n",
    "print(x)"
   ]
  },
  {
   "cell_type": "code",
   "execution_count": 60,
   "metadata": {},
   "outputs": [
    {
     "name": "stdout",
     "output_type": "stream",
     "text": [
      "['hello', True, 'hi'] ['hello', True, 'hi']\n"
     ]
    }
   ],
   "source": [
    "x = [4, True, 'hi'] # lists are mutable\n",
    "y = x\n",
    "x[0] = 'hello' # x and y are references to the list not the list\n",
    "print(x,y)"
   ]
  },
  {
   "cell_type": "code",
   "execution_count": 61,
   "metadata": {},
   "outputs": [
    {
     "name": "stdout",
     "output_type": "stream",
     "text": [
      "0\n"
     ]
    }
   ],
   "source": [
    "# tuples are similar to lists but they're immutable\n",
    "# can't append, remove, or change elements\n",
    "# if you want ot change it, you have to redefine it\n",
    "# doesn't support item assignment\n",
    "x = (0,0,2,2,2) # uses round brackets instead of square brackets\n",
    "print(x[0])\n",
    "# you can lists or tuples inside of each other. they don't needs to be the same size (sometimes other languages require that for embeded arrays)"
   ]
  },
  {
   "cell_type": "code",
   "execution_count": 66,
   "metadata": {},
   "outputs": [
    {
     "name": "stdout",
     "output_type": "stream",
     "text": [
      "0\n",
      "1\n",
      "2\n",
      "3\n",
      "4\n",
      "5\n",
      "6\n",
      "7\n",
      "8\n",
      "9\n"
     ]
    }
   ],
   "source": [
    "# for loops allow us to iterate a set number of time\n",
    "# while loops iterate an indefinite amount of times\n",
    "for i in range(10):\n",
    "    print(i)\n",
    "# the input to range is: start, stop, step\n",
    "# allowed up to 3 and can have less than 3 too\n",
    "# if you only pass one number, it is the stop argument\n",
    "# it will start at 0 by default\n",
    "# if you put tweo arguments, that's start and stop. it goes in order\n",
    "# goes up to but doesn't include 10\n",
    "# step = how much you incriment by. defaults to 1\n"
   ]
  },
  {
   "cell_type": "code",
   "execution_count": 67,
   "metadata": {},
   "outputs": [
    {
     "name": "stdout",
     "output_type": "stream",
     "text": [
      "10\n",
      "9\n",
      "8\n",
      "7\n",
      "6\n",
      "5\n",
      "4\n",
      "3\n",
      "2\n",
      "1\n",
      "0\n"
     ]
    }
   ],
   "source": [
    "for i in range(10, -1, -1):\n",
    "    print(i)"
   ]
  },
  {
   "cell_type": "code",
   "execution_count": 68,
   "metadata": {},
   "outputs": [
    {
     "name": "stdout",
     "output_type": "stream",
     "text": [
      "3\n",
      "4\n",
      "5\n",
      "6\n",
      "7\n",
      "123\n"
     ]
    }
   ],
   "source": [
    "for i in [3,4,5,6,7,123]: # will step through one at a time and print all of them\n",
    "    print(i)"
   ]
  },
  {
   "cell_type": "code",
   "execution_count": 73,
   "metadata": {},
   "outputs": [
    {
     "name": "stdout",
     "output_type": "stream",
     "text": [
      "3\n",
      "4\n",
      "5\n",
      "6\n",
      "7\n",
      "123\n"
     ]
    }
   ],
   "source": [
    "x = [3,4,5,6,7,123]\n",
    "\n",
    "for i in range(len(x)): # prints a specific number of indexes (all in this case)\n",
    "    print(x[i])\n",
    "# dont do this enumerate is better"
   ]
  },
  {
   "cell_type": "code",
   "execution_count": 72,
   "metadata": {},
   "outputs": [
    {
     "name": "stdout",
     "output_type": "stream",
     "text": [
      "0 3\n",
      "1 4\n",
      "2 5\n",
      "3 6\n",
      "4 7\n",
      "5 123\n"
     ]
    }
   ],
   "source": [
    "x = [3,4,5,6,7,123]\n",
    "\n",
    "for i, element in enumerate(x):\n",
    "    print(i, element) # prints both the indexes and elements"
   ]
  },
  {
   "cell_type": "code",
   "execution_count": 2,
   "metadata": {},
   "outputs": [
    {
     "name": "stdout",
     "output_type": "stream",
     "text": [
      "run\n"
     ]
    }
   ],
   "source": [
    "x = [3,4,5,6,7,123]\n",
    "\n",
    "i=0\n",
    "while i < 10:\n",
    "    print('run')\n",
    "    i += 1\n",
    "    i *= 2\n",
    "    # can implement break statements in while as well\n"
   ]
  },
  {
   "cell_type": "code",
   "execution_count": 7,
   "metadata": {},
   "outputs": [
    {
     "name": "stdout",
     "output_type": "stream",
     "text": [
      "[0, 2]\n"
     ]
    }
   ],
   "source": [
    "x = [0,1,2,3,4,5,6,7,8]\n",
    "y = ['hi', 'hello', 'goodbye', 'cya', 'sure']\n",
    "s = \"hello\"\n",
    "\n",
    "# start at 0, go to the 4th index but do not include it, step by 2\n",
    "slice = x[0:4:2] \n",
    "# [::=1] will reverse a list (step backwards through it)\n",
    "# sliced = (1,2,3,4,4,2,2,1)[::2]\n",
    "# slice works on any collection of elements and can be used on tuples as well\n",
    "\n",
    "\n",
    "print(slice)\n"
   ]
  },
  {
   "cell_type": "code",
   "execution_count": 13,
   "metadata": {},
   "outputs": [
    {
     "name": "stdout",
     "output_type": "stream",
     "text": [
      "{32, 2, 4, 5}\n",
      "True\n"
     ]
    }
   ],
   "source": [
    "# sets are an unordered collection of unique elements\n",
    "# unique unorered collection of elements\n",
    "# there is no notion of position\n",
    "# faster than list. happens in constant time\n",
    "x = set()\n",
    "s = {4,32,2,2}\n",
    "\n",
    "s.add(5)\n",
    "print(s)\n",
    "print(4 in s)"
   ]
  },
  {
   "cell_type": "code",
   "execution_count": 30,
   "metadata": {},
   "outputs": [
    {
     "name": "stdout",
     "output_type": "stream",
     "text": [
      "{32, 2, 4}\n"
     ]
    }
   ],
   "source": [
    "# sets\n",
    "x = set()\n",
    "s = {4,32,2,2}\n",
    "s2 = [4,32,2,2]\n",
    "\n",
    "print(s.union(s2))"
   ]
  },
  {
   "cell_type": "code",
   "execution_count": 24,
   "metadata": {},
   "outputs": [
    {
     "name": "stdout",
     "output_type": "stream",
     "text": [
      "{'key': 4, 'key2': 5, 2: [8, 2, 2, 1, 1]}\n",
      "['key', 'key2', 2]\n",
      "{'key2': 5, 2: [8, 2, 2, 1, 1]}\n"
     ]
    }
   ],
   "source": [
    "x = {'key': 4}\n",
    "#keys dont have to be the same data type\n",
    "x['key2'] = 5\n",
    "x[2] = [8,2,2,1,1]\n",
    "\n",
    "# so fast you can assume its in constant time\n",
    "# chance for hash collisions\n",
    "print(x)\n",
    "print \n",
    "print(list(x.keys()))\n",
    "\n",
    "del x['key']\n",
    "print(x)"
   ]
  },
  {
   "cell_type": "code",
   "execution_count": 26,
   "metadata": {},
   "outputs": [
    {
     "name": "stdout",
     "output_type": "stream",
     "text": [
      "key 4\n"
     ]
    }
   ],
   "source": [
    "# dictonaries\n",
    "x = {'key': 4}\n",
    "\n",
    "for key, value in x.items():\n",
    "    print(key, value)"
   ]
  },
  {
   "cell_type": "code",
   "execution_count": 29,
   "metadata": {},
   "outputs": [
    {
     "name": "stdout",
     "output_type": "stream",
     "text": [
      "[2, 3, 4, 5, 6]\n"
     ]
    }
   ],
   "source": [
    "# comprehensions\n",
    "# one line initialization of a list, tuple, etc\n",
    "x = [x + 2 for x in range(5)]\n",
    "print(x)"
   ]
  },
  {
   "cell_type": "code",
   "execution_count": 36,
   "metadata": {},
   "outputs": [
    {
     "name": "stdout",
     "output_type": "stream",
     "text": [
      "[[0, 0, 0, 0, 0, 0, 0, 0, 0, 0, 0, 0, 0, 0, 0, 0, 0, 0, 0, 0, 0, 0, 0, 0, 0, 0, 0, 0, 0, 0, 0, 0, 0, 0, 0, 0, 0, 0, 0, 0, 0, 0, 0, 0, 0, 0, 0, 0, 0, 0, 0, 0, 0, 0, 0, 0, 0, 0, 0, 0, 0, 0, 0, 0, 0, 0, 0, 0, 0, 0, 0, 0, 0, 0, 0, 0, 0, 0, 0, 0, 0, 0, 0, 0, 0, 0, 0, 0, 0, 0, 0, 0, 0, 0, 0, 0, 0, 0, 0, 0, 0, 0, 0, 0, 0, 0, 0, 0, 0, 0, 0, 0, 0, 0, 0, 0, 0, 0, 0, 0, 0, 0, 0, 0, 0, 0, 0, 0, 0, 0, 0, 0, 0, 0, 0, 0, 0, 0, 0, 0, 0, 0, 0, 0, 0, 0, 0, 0, 0, 0, 0, 0, 0, 0, 0, 0, 0, 0, 0, 0, 0, 0, 0, 0, 0, 0, 0, 0, 0, 0, 0, 0, 0, 0, 0, 0, 0, 0, 0, 0, 0, 0, 0, 0, 0, 0, 0, 0, 0, 0, 0, 0, 0, 0, 0, 0, 0, 0, 0, 0, 0, 0, 0, 0, 0, 0, 0, 0, 0, 0, 0, 0, 0, 0, 0, 0, 0, 0, 0, 0, 0, 0, 0, 0, 0, 0, 0, 0, 0, 0, 0, 0, 0, 0, 0, 0, 0, 0, 0, 0, 0, 0, 0, 0, 0, 0, 0, 0, 0, 0, 0, 0, 0, 0, 0, 0, 0, 0, 0, 0, 0, 0, 0, 0, 0, 0, 0, 0, 0, 0, 0, 0, 0, 0, 0, 0, 0, 0, 0, 0, 0, 0, 0, 0, 0, 0, 0, 0, 0, 0, 0, 0, 0, 0, 0, 0, 0, 0, 0, 0, 0, 0, 0, 0, 0, 0, 0, 0, 0, 0, 0, 0, 0, 0, 0, 0, 0, 0, 0, 0, 0, 0, 0, 0, 0, 0, 0, 0, 0, 0, 0, 0, 0, 0, 0, 0, 0, 0, 0, 0, 0, 0, 0, 0, 0, 0, 0, 0, 0, 0, 0, 0, 0, 0, 0, 0, 0, 0, 0, 0, 0, 0, 0, 0, 0, 0, 0, 0, 0, 0, 0, 0, 0, 0, 0, 0, 0, 0, 0, 0, 0, 0, 0, 0, 0, 0, 0, 0, 0, 0, 0, 0, 0, 0, 0, 0, 0, 0, 0, 0, 0, 0, 0, 0, 0, 0, 0, 0, 0, 0, 0, 0, 0, 0, 0, 0, 0, 0, 0, 0, 0, 0, 0, 0, 0, 0, 0, 0, 0, 0, 0, 0, 0, 0, 0, 0, 0, 0, 0, 0, 0, 0, 0, 0, 0, 0, 0, 0, 0, 0, 0, 0, 0, 0, 0, 0, 0, 0, 0, 0, 0, 0, 0, 0, 0, 0, 0, 0, 0, 0, 0, 0, 0, 0, 0, 0, 0, 0, 0, 0, 0, 0, 0, 0, 0, 0, 0, 0, 0, 0, 0, 0, 0, 0, 0, 0, 0, 0, 0, 0]]\n"
     ]
    }
   ],
   "source": [
    "x = [[0 for x in range(100) for x in range(5)]]\n",
    "print(x)"
   ]
  },
  {
   "cell_type": "code",
   "execution_count": 38,
   "metadata": {},
   "outputs": [
    {
     "name": "stdout",
     "output_type": "stream",
     "text": [
      "(0, 5, 10, 15, 20, 25, 30, 35, 40, 45, 50, 55, 60, 65, 70, 75, 80, 85, 90, 95)\n"
     ]
    }
   ],
   "source": [
    "# comprehensions look diff fo rtuples\n",
    "x = tuple(i for i in range(100) if i % 5 == 0)\n",
    "print(x)"
   ]
  },
  {
   "cell_type": "code",
   "execution_count": 39,
   "metadata": {},
   "outputs": [],
   "source": []
  },
  {
   "cell_type": "code",
   "execution_count": 44,
   "metadata": {},
   "outputs": [
    {
     "name": "stdout",
     "output_type": "stream",
     "text": [
      "Run\n",
      "hi\n"
     ]
    }
   ],
   "source": [
    "# functions\n",
    "def func():\n",
    "    print('Run')\n",
    "    def func(): # cna have dunctions in functions\n",
    "        print('hi')\n",
    "    func()\n",
    "        \n",
    "func()"
   ]
  },
  {
   "cell_type": "code",
   "execution_count": 47,
   "metadata": {},
   "outputs": [
    {
     "name": "stdout",
     "output_type": "stream",
     "text": [
      "Run 5 6\n",
      "(30, 5)\n",
      "Run 5 6\n",
      "30 5\n"
     ]
    }
   ],
   "source": [
    "def func(x, y):\n",
    "    print('Run', x, y)\n",
    "    return x * y, 5\n",
    "\n",
    "print(func(5, 6))\n",
    "\n",
    "r1, r2 = func(5, 6)\n",
    "print(r1, r2)"
   ]
  },
  {
   "cell_type": "code",
   "execution_count": 52,
   "metadata": {},
   "outputs": [
    {
     "name": "stdout",
     "output_type": "stream",
     "text": [
      "3\n",
      "None\n"
     ]
    }
   ],
   "source": [
    "def func(x):\n",
    "    def func2():\n",
    "        print(x)\n",
    "\n",
    "    return func2\n",
    "\n",
    "print(func(3)())"
   ]
  },
  {
   "cell_type": "code",
   "execution_count": 54,
   "metadata": {},
   "outputs": [
    {
     "name": "stdout",
     "output_type": "stream",
     "text": [
      "1 23 236363 2727\n",
      "[1, 23, 236363, 2727]\n"
     ]
    }
   ],
   "source": [
    "def func(*args, **kwargs):\n",
    "    pass\n",
    "\n",
    "x = [1,23,236363,2727]\n",
    "print(x)\n",
    "print(*x)"
   ]
  },
  {
   "cell_type": "code",
   "execution_count": 58,
   "metadata": {},
   "outputs": [
    {
     "name": "stdout",
     "output_type": "stream",
     "text": [
      "1 2\n",
      "3 4\n",
      "2 5\n"
     ]
    }
   ],
   "source": [
    "def func(x, y):\n",
    "    print(x, y)\n",
    "\n",
    "pairs = [(1,2), (3,4)]\n",
    "\n",
    "for pair in pairs:\n",
    "    func(*pair)\n",
    "    \n",
    "# works on dictonairies too\n",
    "func(**{'x':2, 'y':5})\n"
   ]
  },
  {
   "cell_type": "code",
   "execution_count": 60,
   "metadata": {},
   "outputs": [
    {
     "name": "stdout",
     "output_type": "stream",
     "text": [
      "(1, 2, 3, 4, 5) {'one': 0, 'two': 1}\n",
      "1 2 3 4 5\n"
     ]
    }
   ],
   "source": [
    "def func(*args, **kwargs):\n",
    "    print(args,  kwargs)\n",
    "    print(*args) #unpack args\n",
    "\n",
    "func(1,2,3,4,5,one=0, two=1)"
   ]
  },
  {
   "cell_type": "code",
   "execution_count": 64,
   "metadata": {},
   "outputs": [
    {
     "name": "stdout",
     "output_type": "stream",
     "text": [
      "tim\n",
      "tim\n"
     ]
    }
   ],
   "source": [
    "x = 'tim'\n",
    "\n",
    "def func(name):\n",
    "    # x = name # this is local and can't be used out side this function\n",
    "    global x # never actually use global variables though\n",
    "    print\n",
    "\n",
    "print(x)\n",
    "func('changed') # so this wont work with a local var\n",
    "print(x)"
   ]
  },
  {
   "cell_type": "code",
   "execution_count": 66,
   "metadata": {},
   "outputs": [
    {
     "ename": "Exception",
     "evalue": "Bad",
     "output_type": "error",
     "traceback": [
      "\u001b[1;31m---------------------------------------------------------------------------\u001b[0m",
      "\u001b[1;31mException\u001b[0m                                 Traceback (most recent call last)",
      "Cell \u001b[1;32mIn[66], line 1\u001b[0m\n\u001b[1;32m----> 1\u001b[0m \u001b[38;5;28;01mraise\u001b[39;00m \u001b[38;5;167;01mException\u001b[39;00m(\u001b[38;5;124m'\u001b[39m\u001b[38;5;124mBad\u001b[39m\u001b[38;5;124m'\u001b[39m)\n",
      "\u001b[1;31mException\u001b[0m: Bad"
     ]
    }
   ],
   "source": [
    "# raise exceptions\n",
    "raise Exception('Bad')\n"
   ]
  },
  {
   "cell_type": "code",
   "execution_count": 68,
   "metadata": {},
   "outputs": [
    {
     "name": "stdout",
     "output_type": "stream",
     "text": [
      "division by zero\n",
      "finally\n"
     ]
    }
   ],
   "source": [
    "# handle exceptions\n",
    "try: \n",
    "    x = 7 / 0\n",
    "except Exception as e:\n",
    "    print(e)\n",
    "finally:\n",
    "    print('finally')"
   ]
  },
  {
   "cell_type": "code",
   "execution_count": 70,
   "metadata": {},
   "outputs": [
    {
     "name": "stdout",
     "output_type": "stream",
     "text": [
      "34\n"
     ]
    }
   ],
   "source": [
    "# lambas \n",
    "x = lambda x, y: x + y\n",
    "\n",
    "print(x(2, 32))"
   ]
  },
  {
   "cell_type": "code",
   "execution_count": 74,
   "metadata": {},
   "outputs": [
    {
     "name": "stdout",
     "output_type": "stream",
     "text": [
      "[3, 4, 5, 6, 7, 8, 47, 5, 5, 4, 7, 6]\n",
      "[1, 2, 3, 4, 5, 6, 45, 3, 3, 2, 5, 4]\n",
      "[1, 2, 3, 4, 5, 6, 45, 3, 3, 2, 5, 4]\n"
     ]
    }
   ],
   "source": [
    "# map and filter\n",
    "\n",
    "x = [1,2,3,4,5,6,45,3,3,2,5,4]\n",
    "\n",
    "mp = map(lambda i: i + 2, x)\n",
    "print(list(mp))\n",
    "\n",
    "mp = filter(lambda i: i * 2, x)\n",
    "print(list(mp))\n",
    "\n",
    "def func(i):\n",
    "    i = i * 3\n",
    "    return i % 2 == 0\n",
    "\n",
    "mp = filter(lambda i: i * 2, x)\n",
    "print(list(mp))"
   ]
  },
  {
   "cell_type": "code",
   "execution_count": 78,
   "metadata": {},
   "outputs": [
    {
     "name": "stdout",
     "output_type": "stream",
     "text": [
      "hello 14 89\n",
      "hello 89\n"
     ]
    }
   ],
   "source": [
    "# F strings\n",
    "# new in python 3.6\n",
    "tim = 89\n",
    "x = f'hello {6 + 8} {tim}'\n",
    "print(x)\n",
    "\n",
    "print(f'hello {tim}')"
   ]
  },
  {
   "cell_type": "code",
   "execution_count": null,
   "metadata": {},
   "outputs": [],
   "source": []
  }
 ],
 "metadata": {
  "kernelspec": {
   "display_name": "Python 3",
   "language": "python",
   "name": "python3"
  },
  "language_info": {
   "codemirror_mode": {
    "name": "ipython",
    "version": 3
   },
   "file_extension": ".py",
   "mimetype": "text/x-python",
   "name": "python",
   "nbconvert_exporter": "python",
   "pygments_lexer": "ipython3",
   "version": "3.12.2"
  }
 },
 "nbformat": 4,
 "nbformat_minor": 2
}
