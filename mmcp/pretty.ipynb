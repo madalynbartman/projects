{
 "cells": [
  {
   "cell_type": "code",
   "execution_count": 1,
   "id": "0a4c5169-f52a-4f88-b9fb-e0f9c97b32c7",
   "metadata": {},
   "outputs": [],
   "source": [
    "# LaTeX is pronounced \"lay tech\""
   ]
  },
  {
   "cell_type": "code",
   "execution_count": 10,
   "id": "3ba9d391-a3f6-456d-ab3c-6ac010b55753",
   "metadata": {},
   "outputs": [
    {
     "data": {
      "text/plain": [
       "'4 + 3 = 7'"
      ]
     },
     "metadata": {},
     "output_type": "display_data"
    },
    {
     "data": {
      "text/plain": [
       "'4 + 3 = 7'"
      ]
     },
     "metadata": {},
     "output_type": "display_data"
    }
   ],
   "source": [
    "from IPython.display import display, Math\n",
    "\n",
    "display('4 + 3 = 7') # it displays the '' too but it is still a string\n",
    "display('4 + 3 = ' + str(4+3)) # for ex, non-quoted 3s are still ints\n",
    "# makes a string of the result of integer adddtion"
   ]
  },
  {
   "cell_type": "code",
   "execution_count": 13,
   "id": "7e65b320-667f-483e-ad9e-fb0413b4a625",
   "metadata": {},
   "outputs": [
    {
     "data": {
      "text/latex": [
       "$\\displaystyle 4+3=7$"
      ],
      "text/plain": [
       "<IPython.core.display.Math object>"
      ]
     },
     "metadata": {},
     "output_type": "display_data"
    }
   ],
   "source": [
    "display(Math('4+3=7')) # looks nicer. no more single quotes"
   ]
  },
  {
   "cell_type": "code",
   "execution_count": 21,
   "id": "91504291-1ed7-405c-81db-072602fb36af",
   "metadata": {},
   "outputs": [
    {
     "data": {
      "text/latex": [
       "$\\displaystyle 45$"
      ],
      "text/plain": [
       "<IPython.core.display.Math object>"
      ]
     },
     "metadata": {},
     "output_type": "display_data"
    },
    {
     "data": {
      "text/latex": [
       "$\\displaystyle 4+5=9$"
      ],
      "text/plain": [
       "<IPython.core.display.Math object>"
      ]
     },
     "metadata": {},
     "output_type": "display_data"
    }
   ],
   "source": [
    "x = 4\n",
    "y = 5\n",
    "# need to use strings inside of display and math functions\n",
    "display(Math(str(x) + str(y)))\n",
    "# this is the string 4 cat string 5 not the int 45\n",
    "display(Math(str(x) + '+' + str(y) + '=' + '9'))"
   ]
  },
  {
   "cell_type": "code",
   "execution_count": 23,
   "id": "c097c3a2-3734-4e02-b625-4d7dba5abc04",
   "metadata": {},
   "outputs": [
    {
     "data": {
      "text/latex": [
       "$\\displaystyle 4+5 = 9$"
      ],
      "text/plain": [
       "<IPython.core.display.Math object>"
      ]
     },
     "metadata": {},
     "output_type": "display_data"
    }
   ],
   "source": [
    "display(Math('%g+%g = %g' %(x,y,x+y)))"
   ]
  },
  {
   "cell_type": "code",
   "execution_count": 27,
   "id": "2f676b86-4a00-4a84-bacd-49b936d2ff0c",
   "metadata": {},
   "outputs": [
    {
     "data": {
      "text/latex": [
       "$\\displaystyle 4/5 = .8$"
      ],
      "text/plain": [
       "<IPython.core.display.Math object>"
      ]
     },
     "metadata": {},
     "output_type": "display_data"
    },
    {
     "data": {
      "text/latex": [
       "$\\displaystyle \\frac{4}{5} = .8$"
      ],
      "text/plain": [
       "<IPython.core.display.Math object>"
      ]
     },
     "metadata": {},
     "output_type": "display_data"
    }
   ],
   "source": [
    "display(Math('4/5 = .8'))\n",
    "display(Math('\\\\frac{4}{5} = .8'))"
   ]
  },
  {
   "cell_type": "code",
   "execution_count": 29,
   "id": "69665a40-51ef-4c4c-b3c2-e61bfba7a57d",
   "metadata": {},
   "outputs": [
    {
     "data": {
      "text/latex": [
       "$\\displaystyle 3.4 \\times 17 = 57.8 $"
      ],
      "text/plain": [
       "<IPython.core.display.Math object>"
      ]
     },
     "metadata": {},
     "output_type": "display_data"
    }
   ],
   "source": [
    "x = 3.4\n",
    "y = 17\n",
    "\n",
    "display(Math('%g \\\\times %g = %g ' %(x,y,x*y)))"
   ]
  },
  {
   "cell_type": "code",
   "execution_count": 37,
   "id": "41627b73-d68b-4c47-9883-1e8b896b3fdb",
   "metadata": {},
   "outputs": [
    {
     "data": {
      "text/latex": [
       "$\\displaystyle 3x(4 + y) = 42$"
      ],
      "text/plain": [
       "<IPython.core.display.Math object>"
      ]
     },
     "metadata": {},
     "output_type": "display_data"
    },
    {
     "data": {
      "text/latex": [
       "$\\displaystyle 3 \\times 7(4 + -2) = 42$"
      ],
      "text/plain": [
       "<IPython.core.display.Math object>"
      ]
     },
     "metadata": {},
     "output_type": "display_data"
    },
    {
     "data": {
      "text/latex": [
       "$\\displaystyle -y-\\frac{x + 3}{z} = 0$"
      ],
      "text/plain": [
       "<IPython.core.display.Math object>"
      ]
     },
     "metadata": {},
     "output_type": "display_data"
    },
    {
     "data": {
      "text/latex": [
       "$\\displaystyle --2-\\frac{7 + 3}{5} = 0$"
      ],
      "text/plain": [
       "<IPython.core.display.Math object>"
      ]
     },
     "metadata": {},
     "output_type": "display_data"
    }
   ],
   "source": [
    "x = 7 # exercise questions\n",
    "y = -2\n",
    "z = 5\n",
    "\n",
    "display(Math('3x(4 + y) = 42'))\n",
    "display(Math('3 \\\\times %g(4 + %g) = 42' %(x,y)))\n",
    "\n",
    "display(Math('-y-\\\\frac{x + 3}{z} = 0'))\n",
    "display(Math('-%g-\\\\frac{%g + 3}{%g} = 0' %(y,x,z)))"
   ]
  },
  {
   "cell_type": "code",
   "execution_count": null,
   "id": "4c5fcaf1-95c0-4f8a-95a6-84faf04484b3",
   "metadata": {},
   "outputs": [],
   "source": []
  }
 ],
 "metadata": {
  "kernelspec": {
   "display_name": "Python 3 (ipykernel)",
   "language": "python",
   "name": "python3"
  },
  "language_info": {
   "codemirror_mode": {
    "name": "ipython",
    "version": 3
   },
   "file_extension": ".py",
   "mimetype": "text/x-python",
   "name": "python",
   "nbconvert_exporter": "python",
   "pygments_lexer": "ipython3",
   "version": "3.11.7"
  }
 },
 "nbformat": 4,
 "nbformat_minor": 5
}
