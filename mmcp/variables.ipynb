{
 "cells": [
  {
   "cell_type": "code",
   "execution_count": 4,
   "id": "d38dd3db-c397-4a59-b022-b6fabf8484a3",
   "metadata": {},
   "outputs": [
    {
     "data": {
      "text/plain": [
       "7"
      ]
     },
     "execution_count": 4,
     "metadata": {},
     "output_type": "execute_result"
    }
   ],
   "source": [
    "x = 7\n",
    "x # don't need to call print"
   ]
  },
  {
   "cell_type": "code",
   "execution_count": 5,
   "id": "2934366d-17e5-46d6-9998-d84e73d8459a",
   "metadata": {},
   "outputs": [
    {
     "data": {
      "text/plain": [
       "5"
      ]
     },
     "execution_count": 5,
     "metadata": {},
     "output_type": "execute_result"
    }
   ],
   "source": [
    "x - 2"
   ]
  },
  {
   "cell_type": "code",
   "execution_count": 6,
   "id": "a23d6cbb-7c3c-4747-86b1-729c5666d4e4",
   "metadata": {},
   "outputs": [
    {
     "data": {
      "text/plain": [
       "10"
      ]
     },
     "execution_count": 6,
     "metadata": {},
     "output_type": "execute_result"
    }
   ],
   "source": [
    "x = 10 # reassign value\n",
    "x"
   ]
  },
  {
   "cell_type": "code",
   "execution_count": 11,
   "id": "ccf6c879-ad1f-4583-92b2-2a7116ee8c8b",
   "metadata": {},
   "outputs": [
    {
     "data": {
      "text/plain": [
       "0"
      ]
     },
     "execution_count": 11,
     "metadata": {},
     "output_type": "execute_result"
    }
   ],
   "source": [
    "x = x - 2*5 # will keep subtracting 10 from x each time you run it\n",
    "x"
   ]
  },
  {
   "cell_type": "code",
   "execution_count": 15,
   "id": "40e668c2-28e4-45b7-8197-4e0fd326f249",
   "metadata": {},
   "outputs": [
    {
     "name": "stdout",
     "output_type": "stream",
     "text": [
      "630\n",
      "-610\n"
     ]
    }
   ],
   "source": [
    "x = 10\n",
    "y = 20\n",
    "z = 31\n",
    "\n",
    "# the print function allows you to print what would't normally be printed\n",
    "print(x + y*z)\n",
    "print(x - y*z)"
   ]
  },
  {
   "cell_type": "code",
   "execution_count": 16,
   "id": "ae5575eb-ad66-48de-9a79-b8272d4ffdcf",
   "metadata": {},
   "outputs": [
    {
     "data": {
      "text/plain": [
       "44"
      ]
     },
     "execution_count": 16,
     "metadata": {},
     "output_type": "execute_result"
    }
   ],
   "source": [
    "yomama = 10\n",
    "yodaddy = 34\n",
    "\n",
    "yomama + yodaddy"
   ]
  },
  {
   "cell_type": "code",
   "execution_count": 26,
   "id": "76d75a65-50f1-44e3-a852-f38b7fb990b0",
   "metadata": {},
   "outputs": [
    {
     "name": "stdout",
     "output_type": "stream",
     "text": [
      "42\n",
      "-4.0\n"
     ]
    }
   ],
   "source": [
    "x = 7 # exercise questions\n",
    "y = -2 \n",
    "z = 5\n",
    "\n",
    "print(3*x*(4 + y))\n",
    "\n",
    "print(-1*y*-((x + 3) / z))"
   ]
  },
  {
   "cell_type": "code",
   "execution_count": null,
   "id": "a952d050-fa03-4f5c-a4bb-b26bfd5ddc3e",
   "metadata": {},
   "outputs": [],
   "source": []
  }
 ],
 "metadata": {
  "kernelspec": {
   "display_name": "Python 3 (ipykernel)",
   "language": "python",
   "name": "python3"
  },
  "language_info": {
   "codemirror_mode": {
    "name": "ipython",
    "version": 3
   },
   "file_extension": ".py",
   "mimetype": "text/x-python",
   "name": "python",
   "nbconvert_exporter": "python",
   "pygments_lexer": "ipython3",
   "version": "3.11.7"
  }
 },
 "nbformat": 4,
 "nbformat_minor": 5
}
